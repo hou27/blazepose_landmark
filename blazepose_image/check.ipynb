{
 "cells": [
  {
   "cell_type": "code",
   "execution_count": 311,
   "metadata": {},
   "outputs": [],
   "source": [
    "import os\n",
    "import numpy as np\n",
    "npy_directory = \"./npy/train\"\n",
    "npy_files = [np.load(os.path.join(npy_directory, f)) for f in os.listdir(npy_directory) if f.endswith(\".npy\")]"
   ]
  },
  {
   "cell_type": "code",
   "execution_count": 312,
   "metadata": {},
   "outputs": [],
   "source": [
    "train_data = np.array(npy_files)"
   ]
  },
  {
   "cell_type": "markdown",
   "metadata": {},
   "source": [
    "# Preprocessing"
   ]
  },
  {
   "cell_type": "code",
   "execution_count": 313,
   "metadata": {},
   "outputs": [
    {
     "data": {
      "text/plain": [
       "((210, 33, 3),\n",
       " array([[[0.17541769, 0.81885769, 0.45419446],\n",
       "         [0.1518141 , 0.8040178 , 0.43318307],\n",
       "         [0.15005767, 0.79553509, 0.43305836],\n",
       "         ...,\n",
       "         [0.87776741, 0.54242304, 0.61323323],\n",
       "         [0.89697585, 0.87715763, 0.36796451],\n",
       "         [0.87756198, 0.81147419, 0.57840873]],\n",
       " \n",
       "        [[0.21433168, 0.35778275, 0.47616141],\n",
       "         [0.19613124, 0.34512432, 0.45274648],\n",
       "         [0.1951278 , 0.33738075, 0.45260026],\n",
       "         ...,\n",
       "         [0.87387479, 0.59979845, 0.76079463],\n",
       "         [0.90110573, 0.88630698, 0.41906122],\n",
       "         [0.84283006, 0.82160724, 0.73344761]],\n",
       " \n",
       "        [[0.07852932, 0.76701389, 0.45567154],\n",
       "         [0.06146867, 0.73622559, 0.43587575],\n",
       "         [0.06109976, 0.72692741, 0.43575535],\n",
       "         ...,\n",
       "         [0.78782592, 0.58651418, 0.59737059],\n",
       "         [0.78347038, 0.90398993, 0.32741564],\n",
       "         [0.75855909, 0.82725619, 0.56757782]],\n",
       " \n",
       "        ...,\n",
       " \n",
       "        [[0.06729859, 0.19799423, 0.43161888],\n",
       "         [0.0607266 , 0.14492934, 0.41092768],\n",
       "         [0.06179624, 0.13871342, 0.4108066 ],\n",
       "         ...,\n",
       "         [0.81521183, 0.56821185, 0.6399542 ],\n",
       "         [0.78450837, 0.87956124, 0.38413992],\n",
       "         [0.77557385, 0.82977693, 0.60123214]],\n",
       " \n",
       "        [[0.10611776, 0.75368922, 0.43626843],\n",
       "         [0.08950602, 0.72595724, 0.41479782],\n",
       "         [0.08940004, 0.71971012, 0.41465975],\n",
       "         ...,\n",
       "         [0.86896577, 0.600186  , 0.5844071 ],\n",
       "         [0.85309609, 0.87704272, 0.37497569],\n",
       "         [0.84368594, 0.83516798, 0.54872966]],\n",
       " \n",
       "        [[0.15791916, 0.20804428, 0.46147006],\n",
       "         [0.14205294, 0.16848186, 0.43751848],\n",
       "         [0.14282017, 0.1625624 , 0.43735149],\n",
       "         ...,\n",
       "         [0.90253521, 0.64343965, 0.72426688],\n",
       "         [0.84624089, 0.87998675, 0.48598816],\n",
       "         [0.84033656, 0.83396113, 0.68468397]]]))"
      ]
     },
     "execution_count": 313,
     "metadata": {},
     "output_type": "execute_result"
    }
   ],
   "source": [
    "import numpy as np\n",
    "from sklearn.preprocessing import MinMaxScaler\n",
    "\n",
    "# 모든 데이터를 하나의 배열로 결합\n",
    "all_data = np.concatenate(train_data, axis=0)\n",
    "\n",
    "# Min-Max 스케일러 생성\n",
    "scaler = MinMaxScaler()\n",
    "\n",
    "# 데이터 스케일링\n",
    "scaled_data = scaler.fit_transform(all_data)\n",
    "scaled_data = scaled_data.reshape(train_data.shape)\n",
    "scaled_data.shape, scaled_data\n"
   ]
  },
  {
   "cell_type": "code",
   "execution_count": 282,
   "metadata": {},
   "outputs": [
    {
     "data": {
      "text/plain": [
       "array([[ 0.33593595,  0.66316354,  0.00638815],\n",
       "       [ 0.32769394,  0.65407652, -0.01356604],\n",
       "       [ 0.32751572,  0.6513322 , -0.01368741],\n",
       "       [ 0.32726485,  0.64896739, -0.01355855],\n",
       "       [ 0.32749477,  0.65423334,  0.0143434 ],\n",
       "       [ 0.32738286,  0.65118384,  0.01413021],\n",
       "       [ 0.3272154 ,  0.64825231,  0.01407792],\n",
       "       [ 0.32990676,  0.63164413, -0.0726556 ],\n",
       "       [ 0.3299199 ,  0.63045704,  0.0551583 ],\n",
       "       [ 0.34342748,  0.6559481 , -0.00939911],\n",
       "       [ 0.34392834,  0.65541512,  0.02571947],\n",
       "       [ 0.36440521,  0.60787976, -0.14122571],\n",
       "       [ 0.37733957,  0.58005661,  0.13104074],\n",
       "       [ 0.40797001,  0.61586887, -0.28880256],\n",
       "       [ 0.42621604,  0.55712467,  0.25138652],\n",
       "       [ 0.40023097,  0.70776224, -0.39107603],\n",
       "       [ 0.41733792,  0.63222986,  0.33675918],\n",
       "       [ 0.38458031,  0.71741456, -0.4235217 ],\n",
       "       [ 0.40882906,  0.63952774,  0.35451761],\n",
       "       [ 0.38251343,  0.70876533, -0.4048011 ],\n",
       "       [ 0.40535343,  0.64334911,  0.33867624],\n",
       "       [ 0.38762915,  0.70781422, -0.3838672 ],\n",
       "       [ 0.4075883 ,  0.6453681 ,  0.33078933],\n",
       "       [ 0.49473065,  0.63226503, -0.09008727],\n",
       "       [ 0.49694231,  0.61362833,  0.09003009],\n",
       "       [ 0.58162344,  0.65037197, -0.05752767],\n",
       "       [ 0.57796854,  0.63867617,  0.10694236],\n",
       "       [ 0.67335212,  0.63574374, -0.05819781],\n",
       "       [ 0.65995306,  0.62446171,  0.14764035],\n",
       "       [ 0.69131809,  0.62317598, -0.0615917 ],\n",
       "       [ 0.67859745,  0.60988986,  0.149221  ],\n",
       "       [ 0.67649329,  0.70359141, -0.122894  ],\n",
       "       [ 0.66445863,  0.68094379,  0.11918984]])"
      ]
     },
     "execution_count": 282,
     "metadata": {},
     "output_type": "execute_result"
    }
   ],
   "source": [
    "npy_files[0]"
   ]
  },
  {
   "cell_type": "code",
   "execution_count": 283,
   "metadata": {},
   "outputs": [
    {
     "data": {
      "text/plain": [
       "193"
      ]
     },
     "execution_count": 283,
     "metadata": {},
     "output_type": "execute_result"
    }
   ],
   "source": [
    "npy_files.__len__()"
   ]
  },
  {
   "cell_type": "code",
   "execution_count": 314,
   "metadata": {},
   "outputs": [
    {
     "data": {
      "text/plain": [
       "(210, 33, 3)"
      ]
     },
     "execution_count": 314,
     "metadata": {},
     "output_type": "execute_result"
    }
   ],
   "source": [
    "train_data.shape"
   ]
  },
  {
   "cell_type": "markdown",
   "metadata": {},
   "source": [
    "# KMeans"
   ]
  },
  {
   "cell_type": "code",
   "execution_count": 36,
   "metadata": {},
   "outputs": [
    {
     "name": "stdout",
     "output_type": "stream",
     "text": [
      "Labels:  [0 0 0 0 0 0 0 0 0 0 2 1 0 3 1 0 1 1 1 2 0 0 1 2 0 1 0 0 0 0 0 0]\n",
      "Cluster Centers:  [[ 0.32737559  0.5136905  -0.0260049   0.3205847   0.50233265 -0.04780021\n",
      "   0.32064728  0.50007117 -0.04794443  0.3207064   0.49812885 -0.04791649\n",
      "   0.32059538  0.50264105 -0.01783425  0.32068137  0.50067404 -0.01804173\n",
      "   0.32073376  0.49871201 -0.01809351  0.32549609  0.48066291 -0.10296209\n",
      "   0.32544377  0.48138002  0.03338342  0.33595761  0.51034744 -0.03990255\n",
      "   0.33644612  0.51042848 -0.00192258  0.36938445  0.50027397 -0.17007275\n",
      "   0.38118631  0.47790379  0.14456605  0.38150787  0.60866235 -0.19971623\n",
      "   0.39932774  0.5757777   0.17662822  0.37993422  0.70919668 -0.15841739\n",
      "   0.39679202  0.65772739  0.08940739  0.36418095  0.71732769 -0.18348151\n",
      "   0.38365672  0.65771864  0.08340151  0.36329885  0.70907135 -0.17108851\n",
      "   0.38188797  0.6609375   0.05925234  0.36933123  0.70756215 -0.15132448\n",
      "   0.38655791  0.66398054  0.07527666  0.49417493  0.56172497 -0.09631515\n",
      "   0.49712388  0.54345829  0.09624677  0.57957204  0.61406713 -0.05860394\n",
      "   0.57721539  0.60566701  0.134117    0.67284902  0.62251176  0.0021828\n",
      "   0.66271321  0.6135756   0.21980172  0.68968331  0.60927943  0.00386595\n",
      "   0.68147957  0.60257051  0.22662949  0.67444215  0.69547501 -0.06595441\n",
      "   0.66674865  0.67854387  0.18354706]\n",
      " [ 0.31090245  0.64282916 -0.00688723  0.30202123  0.63486347 -0.02742252\n",
      "   0.30164434  0.63277928 -0.02753336  0.30132077  0.63097827 -0.02746116\n",
      "   0.30211947  0.63450406 -0.00145467  0.30182724  0.63220875 -0.00165625\n",
      "   0.30145021  0.62976728 -0.00169376  0.30344831  0.61298566 -0.08473963\n",
      "   0.30334893  0.61042742  0.03423767  0.31761798  0.63563219 -0.02179445\n",
      "   0.31831528  0.63518738  0.01093337  0.34572644  0.59655276 -0.14442899\n",
      "   0.3550061   0.56529317  0.12284636  0.39070297  0.61970505 -0.24779419\n",
      "   0.40556722  0.57308294  0.24546669  0.38153947  0.71058352 -0.28164438\n",
      "   0.39411227  0.64022435  0.31913604  0.36596714  0.71935328 -0.30341121\n",
      "   0.38445967  0.64349683  0.33677102  0.36379236  0.7111702  -0.28911568\n",
      "   0.38222238  0.64770244  0.32011693  0.36937902  0.70825078 -0.27474231\n",
      "   0.38558739  0.6496699   0.31261865  0.47649566  0.60695006 -0.08749326\n",
      "   0.4752766   0.59134269  0.0874585   0.56208573  0.63948914 -0.07755127\n",
      "   0.55730951  0.63525666  0.07918735  0.65999604  0.61776843 -0.06832478\n",
      "   0.65090817  0.61213475  0.10020366  0.67677598  0.60002107 -0.07001551\n",
      "   0.66948545  0.59490642  0.10095628  0.67149021  0.6974495  -0.11813897\n",
      "   0.66396527  0.68129689  0.07888679]\n",
      " [ 0.31417583  0.57601893  0.00394511  0.30575893  0.56779844 -0.01996538\n",
      "   0.30552558  0.56604407 -0.02010511  0.30532398  0.56475989 -0.02004124\n",
      "   0.30576583  0.56736493  0.01131073  0.30554483  0.56530472  0.01108277\n",
      "   0.30525327  0.56324633  0.01104562  0.3078989   0.54943248 -0.0884402\n",
      "   0.30778843  0.54594755  0.05369718  0.32137791  0.56963219 -0.01480323\n",
      "   0.32181109  0.5688618   0.02473838  0.35100729  0.54421357 -0.16035609\n",
      "   0.36308971  0.51346117  0.16004792  0.38989332  0.62000811 -0.20718779\n",
      "   0.40496502  0.57764987  0.24910421  0.38062481  0.70950534 -0.17200368\n",
      "   0.39648367  0.65391139  0.23487314  0.36315758  0.71850801 -0.19334236\n",
      "   0.38109495  0.65596255  0.24011225  0.36109255  0.71101852 -0.18152258\n",
      "   0.37885475  0.66127443  0.21829044  0.3675447   0.70913412 -0.16472518\n",
      "   0.38423716  0.6629833   0.22349974  0.48052991  0.57268786 -0.09791816\n",
      "   0.48271527  0.55206488  0.09792271  0.56982034  0.62264218 -0.06092936\n",
      "   0.56669593  0.61193542  0.10126189  0.6642217   0.62183805 -0.0198796\n",
      "   0.65320981  0.61377863  0.15665197  0.68058813  0.605129   -0.01973344\n",
      "   0.67213682  0.59761628  0.1602487   0.67245042  0.69701529 -0.07902779\n",
      "   0.66509324  0.68060271  0.12492337]\n",
      " [ 0.30916065  0.61508471  0.0254638   0.30162564  0.60720778  0.00232245\n",
      "   0.30140099  0.60546631  0.0022225   0.30119371  0.6040405   0.00227478\n",
      "   0.30164874  0.60601312  0.02842775  0.30144927  0.60349882  0.02821533\n",
      "   0.30116922  0.6008296   0.02816539  0.303792    0.58708692 -0.06649856\n",
      "   0.30376336  0.58312339  0.05173559  0.31638426  0.6090346   0.00675462\n",
      "   0.31698811  0.60705686  0.03937998  0.34603855  0.58096725 -0.12721695\n",
      "   0.35640267  0.54286772  0.14033985  0.39352459  0.62523007 -0.13074709\n",
      "   0.40485638  0.57246536  0.27621716  0.38078651  0.71050715 -0.01753452\n",
      "   0.39193499  0.63326269  0.37397149  0.36633706  0.72129244 -0.01456029\n",
      "   0.38153446  0.63757497  0.39791462  0.3631317   0.71049857 -0.00738004\n",
      "   0.37841529  0.64517796  0.38501102  0.369636    0.70463777 -0.00943309\n",
      "   0.38214022  0.64693952  0.36929536  0.47337142  0.59594846 -0.08294159\n",
      "   0.47456145  0.57885265  0.08294143  0.55798113  0.63521081 -0.08830036\n",
      "   0.55507326  0.63394207  0.06810676  0.65974945  0.61793381 -0.076014\n",
      "   0.64902461  0.61568624  0.08832773  0.6727159   0.60099065 -0.07682806\n",
      "   0.66868854  0.59977144  0.08940148  0.662781    0.68851507 -0.11513784\n",
      "   0.65775263  0.67217588  0.07419702]]\n"
     ]
    },
    {
     "name": "stderr",
     "output_type": "stream",
     "text": [
      "/Users/hou27/Library/Python/3.9/lib/python/site-packages/sklearn/cluster/_kmeans.py:1412: FutureWarning: The default value of `n_init` will change from 10 to 'auto' in 1.4. Set the value of `n_init` explicitly to suppress the warning\n",
      "  super()._check_params_vs_input(X, default_n_init=10)\n"
     ]
    }
   ],
   "source": [
    "from sklearn.cluster import KMeans\n",
    "import numpy as np\n",
    "\n",
    "# KMeans 객체 생성 및 학습\n",
    "kmeans = KMeans(n_clusters=4) # 클러스터 수는 3으로\n",
    "kmeans.fit([d.reshape(-1) for d in data])\n",
    "\n",
    "# 결과 확인\n",
    "labels = kmeans.labels_ # 각 데이터 포인트가 속한 클러스터의 레이블\n",
    "centers = kmeans.cluster_centers_ # 각 클러스터의 중심점\n",
    "\n",
    "print(\"Labels: \", labels)\n",
    "print(\"Cluster Centers: \", centers)"
   ]
  },
  {
   "cell_type": "markdown",
   "metadata": {},
   "source": [
    "# DBSCAN"
   ]
  },
  {
   "cell_type": "code",
   "execution_count": 41,
   "metadata": {},
   "outputs": [
    {
     "name": "stdout",
     "output_type": "stream",
     "text": [
      "Labels:  [ 0  0  0  0  0  0  0  0  0  0 -1 -1  0 -1 -1  0 -1 -1 -1 -1  0  0 -1 -1\n",
      "  0 -1  0  0  0  0  0  0]\n"
     ]
    }
   ],
   "source": [
    "from sklearn.cluster import DBSCAN\n",
    "import numpy as np\n",
    "\n",
    "# DBSCAN 객체 생성 및 학습\n",
    "dbscan = DBSCAN(eps=0.25, min_samples=15)\n",
    "dbscan.fit([d.reshape(-1) for d in data]) # 각 데이터를 1차원 배열로 변형\n",
    "\n",
    "# 결과 확인\n",
    "labels = dbscan.labels_ # 각 데이터에 대한 클러스터 레이블\n",
    "\n",
    "print(\"Labels: \", labels)"
   ]
  },
  {
   "cell_type": "markdown",
   "metadata": {},
   "source": [
    "# PCA"
   ]
  },
  {
   "cell_type": "code",
   "execution_count": 42,
   "metadata": {},
   "outputs": [
    {
     "name": "stdout",
     "output_type": "stream",
     "text": [
      "PCA Data Shape:  (32, 2)\n"
     ]
    }
   ],
   "source": [
    "from sklearn.decomposition import PCA\n",
    "import numpy as np\n",
    "\n",
    "# 각 데이터를 1차원 배열로 변형\n",
    "reshaped_data = [d.reshape(-1) for d in data]\n",
    "\n",
    "# PCA 객체 생성 및 학습\n",
    "pca = PCA(n_components=2) # n_components는 출력 공간의 차원 수\n",
    "pca_data = pca.fit_transform(reshaped_data)\n",
    "\n",
    "print(\"PCA Data Shape: \", pca_data.shape)"
   ]
  },
  {
   "cell_type": "code",
   "execution_count": 54,
   "metadata": {},
   "outputs": [
    {
     "name": "stdout",
     "output_type": "stream",
     "text": [
      "Labels:  [ 0  0  0  0  0  0  0  0  0  0 -1 -1  0 -1 -1  0 -1 -1 -1 -1  0  0 -1 -1\n",
      "  0 -1  0  0  0  0  0  0]\n"
     ]
    }
   ],
   "source": [
    "from sklearn.cluster import DBSCAN\n",
    "import numpy as np\n",
    "\n",
    "# DBSCAN 객체 생성 및 학습\n",
    "dbscan = DBSCAN(eps=0.25, min_samples=15)\n",
    "dbscan.fit(pca_data) # 각 데이터를 1차원 배열로 변형\n",
    "\n",
    "# 결과 확인\n",
    "labels = dbscan.labels_ # 각 데이터에 대한 클러스터 레이블\n",
    "\n",
    "print(\"Labels: \", labels)"
   ]
  },
  {
   "cell_type": "code",
   "execution_count": 53,
   "metadata": {},
   "outputs": [
    {
     "name": "stdout",
     "output_type": "stream",
     "text": [
      "Labels:  [0 0 0 0 0 0 0 0 0 0 3 1 0 2 1 0 1 1 1 3 0 0 1 3 0 1 0 0 0 0 0 0]\n",
      "Cluster Centers:  [[-0.22554875 -0.00853828]\n",
      " [ 0.53777734 -0.07411288]\n",
      " [ 0.44375342  0.485952  ]\n",
      " [ 0.17610962  0.07071403]]\n"
     ]
    },
    {
     "name": "stderr",
     "output_type": "stream",
     "text": [
      "/Users/hou27/Library/Python/3.9/lib/python/site-packages/sklearn/cluster/_kmeans.py:1412: FutureWarning: The default value of `n_init` will change from 10 to 'auto' in 1.4. Set the value of `n_init` explicitly to suppress the warning\n",
      "  super()._check_params_vs_input(X, default_n_init=10)\n"
     ]
    }
   ],
   "source": [
    "from sklearn.cluster import KMeans\n",
    "import numpy as np\n",
    "\n",
    "# KMeans 객체 생성 및 학습\n",
    "kmeans = KMeans(n_clusters=4) # 클러스터 수는 3으로\n",
    "kmeans.fit(pca_data)\n",
    "\n",
    "# 결과 확인\n",
    "labels = kmeans.labels_ # 각 데이터 포인트가 속한 클러스터의 레이블\n",
    "centers = kmeans.cluster_centers_ # 각 클러스터의 중심점\n",
    "\n",
    "print(\"Labels: \", labels)\n",
    "print(\"Cluster Centers: \", centers)"
   ]
  },
  {
   "cell_type": "markdown",
   "metadata": {},
   "source": [
    "# AudoEncoder"
   ]
  },
  {
   "cell_type": "code",
   "execution_count": 56,
   "metadata": {},
   "outputs": [
    {
     "name": "stdout",
     "output_type": "stream",
     "text": [
      "Compressed Data Shape:  (32, 32)\n",
      "Labels:  [0 0 0 0 0 0 0 0 0 0 0 0 0 0 0 0 0 0 0 0 0 0 0 0 0 0 0 0 0 0 0 0]\n"
     ]
    }
   ],
   "source": [
    "import numpy as np\n",
    "from sklearn.cluster import DBSCAN\n",
    "import torch\n",
    "from torch import nn\n",
    "from torch.optim import Adam\n",
    "\n",
    "data = np.array(npy_files)\n",
    "# 각 데이터를 1차원 배열로 변형 및 Tensor 변환\n",
    "reshaped_data = np.array([d.reshape(-1) for d in data])\n",
    "reshaped_data = torch.from_numpy(reshaped_data).float()\n",
    "\n",
    "class Autoencoder(nn.Module):\n",
    "    def __init__(self):\n",
    "        super(Autoencoder, self).__init__()\n",
    "        self.encoder = nn.Sequential(\n",
    "            nn.Linear(99, 64),\n",
    "            nn.ReLU(),\n",
    "            nn.Linear(64, 32),\n",
    "            nn.ReLU()\n",
    "        )\n",
    "        self.decoder = nn.Sequential(\n",
    "            nn.Linear(32, 64),\n",
    "            nn.ReLU(),\n",
    "            nn.Linear(64, 99)\n",
    "        )\n",
    "\n",
    "    def forward(self, x):\n",
    "        x = self.encoder(x)\n",
    "        x = self.decoder(x)\n",
    "        return x\n",
    "\n",
    "autoencoder_model = Autoencoder()\n",
    "criterion = nn.MSELoss()\n",
    "optimizer = Adam(autoencoder_model.parameters(), lr=0.001)\n",
    "\n",
    "# Autoencoder 학습\n",
    "for epoch in range(50): # epochs=50 \n",
    "    optimizer.zero_grad()\n",
    "    output_data = autoencoder_model.forward(reshaped_data)\n",
    "    loss_value = criterion(output_data, reshaped_data)\n",
    "    loss_value.backward()\n",
    "    optimizer.step()\n",
    "\n",
    "compressed_data_encoder_only_part_of_autoencoder_model=autoencoder_model.encoder\n",
    "\n",
    "with torch.no_grad():\n",
    "     compressed_dataset=compressed_data_encoder_only_part_of_autoencoder_model.forward(reshaped_data)\n",
    "\n",
    "compressed_dataset_np=compressed_dataset.numpy() # converting tensor to numpy array to use with sklearn's DBSCAN\n",
    "\n",
    "print(\"Compressed Data Shape: \", compressed_dataset_np.shape)\n",
    "\n",
    "dbscan_model=DBSCAN(min_samples=5).fit(compressed_dataset_np) \n",
    "\n",
    "labels=dbscan_model.labels_\n",
    "\n",
    "print(\"Labels: \", labels)\n",
    "\n"
   ]
  },
  {
   "cell_type": "markdown",
   "metadata": {},
   "source": [
    "# kNN"
   ]
  },
  {
   "cell_type": "code",
   "execution_count": 86,
   "metadata": {},
   "outputs": [
    {
     "data": {
      "text/plain": [
       "(21, 33, 3)"
      ]
     },
     "execution_count": 86,
     "metadata": {},
     "output_type": "execute_result"
    }
   ],
   "source": [
    "X_labeled.shape"
   ]
  },
  {
   "cell_type": "code",
   "execution_count": 339,
   "metadata": {},
   "outputs": [
    {
     "data": {
      "text/html": [
       "<style>#sk-container-id-45 {color: black;}#sk-container-id-45 pre{padding: 0;}#sk-container-id-45 div.sk-toggleable {background-color: white;}#sk-container-id-45 label.sk-toggleable__label {cursor: pointer;display: block;width: 100%;margin-bottom: 0;padding: 0.3em;box-sizing: border-box;text-align: center;}#sk-container-id-45 label.sk-toggleable__label-arrow:before {content: \"▸\";float: left;margin-right: 0.25em;color: #696969;}#sk-container-id-45 label.sk-toggleable__label-arrow:hover:before {color: black;}#sk-container-id-45 div.sk-estimator:hover label.sk-toggleable__label-arrow:before {color: black;}#sk-container-id-45 div.sk-toggleable__content {max-height: 0;max-width: 0;overflow: hidden;text-align: left;background-color: #f0f8ff;}#sk-container-id-45 div.sk-toggleable__content pre {margin: 0.2em;color: black;border-radius: 0.25em;background-color: #f0f8ff;}#sk-container-id-45 input.sk-toggleable__control:checked~div.sk-toggleable__content {max-height: 200px;max-width: 100%;overflow: auto;}#sk-container-id-45 input.sk-toggleable__control:checked~label.sk-toggleable__label-arrow:before {content: \"▾\";}#sk-container-id-45 div.sk-estimator input.sk-toggleable__control:checked~label.sk-toggleable__label {background-color: #d4ebff;}#sk-container-id-45 div.sk-label input.sk-toggleable__control:checked~label.sk-toggleable__label {background-color: #d4ebff;}#sk-container-id-45 input.sk-hidden--visually {border: 0;clip: rect(1px 1px 1px 1px);clip: rect(1px, 1px, 1px, 1px);height: 1px;margin: -1px;overflow: hidden;padding: 0;position: absolute;width: 1px;}#sk-container-id-45 div.sk-estimator {font-family: monospace;background-color: #f0f8ff;border: 1px dotted black;border-radius: 0.25em;box-sizing: border-box;margin-bottom: 0.5em;}#sk-container-id-45 div.sk-estimator:hover {background-color: #d4ebff;}#sk-container-id-45 div.sk-parallel-item::after {content: \"\";width: 100%;border-bottom: 1px solid gray;flex-grow: 1;}#sk-container-id-45 div.sk-label:hover label.sk-toggleable__label {background-color: #d4ebff;}#sk-container-id-45 div.sk-serial::before {content: \"\";position: absolute;border-left: 1px solid gray;box-sizing: border-box;top: 0;bottom: 0;left: 50%;z-index: 0;}#sk-container-id-45 div.sk-serial {display: flex;flex-direction: column;align-items: center;background-color: white;padding-right: 0.2em;padding-left: 0.2em;position: relative;}#sk-container-id-45 div.sk-item {position: relative;z-index: 1;}#sk-container-id-45 div.sk-parallel {display: flex;align-items: stretch;justify-content: center;background-color: white;position: relative;}#sk-container-id-45 div.sk-item::before, #sk-container-id-45 div.sk-parallel-item::before {content: \"\";position: absolute;border-left: 1px solid gray;box-sizing: border-box;top: 0;bottom: 0;left: 50%;z-index: -1;}#sk-container-id-45 div.sk-parallel-item {display: flex;flex-direction: column;z-index: 1;position: relative;background-color: white;}#sk-container-id-45 div.sk-parallel-item:first-child::after {align-self: flex-end;width: 50%;}#sk-container-id-45 div.sk-parallel-item:last-child::after {align-self: flex-start;width: 50%;}#sk-container-id-45 div.sk-parallel-item:only-child::after {width: 0;}#sk-container-id-45 div.sk-dashed-wrapped {border: 1px dashed gray;margin: 0 0.4em 0.5em 0.4em;box-sizing: border-box;padding-bottom: 0.4em;background-color: white;}#sk-container-id-45 div.sk-label label {font-family: monospace;font-weight: bold;display: inline-block;line-height: 1.2em;}#sk-container-id-45 div.sk-label-container {text-align: center;}#sk-container-id-45 div.sk-container {/* jupyter's `normalize.less` sets `[hidden] { display: none; }` but bootstrap.min.css set `[hidden] { display: none !important; }` so we also need the `!important` here to be able to override the default hidden behavior on the sphinx rendered scikit-learn.org. See: https://github.com/scikit-learn/scikit-learn/issues/21755 */display: inline-block !important;position: relative;}#sk-container-id-45 div.sk-text-repr-fallback {display: none;}</style><div id=\"sk-container-id-45\" class=\"sk-top-container\"><div class=\"sk-text-repr-fallback\"><pre>KNeighborsClassifier(n_neighbors=3)</pre><b>In a Jupyter environment, please rerun this cell to show the HTML representation or trust the notebook. <br />On GitHub, the HTML representation is unable to render, please try loading this page with nbviewer.org.</b></div><div class=\"sk-container\" hidden><div class=\"sk-item\"><div class=\"sk-estimator sk-toggleable\"><input class=\"sk-toggleable__control sk-hidden--visually\" id=\"sk-estimator-id-70\" type=\"checkbox\" checked><label for=\"sk-estimator-id-70\" class=\"sk-toggleable__label sk-toggleable__label-arrow\">KNeighborsClassifier</label><div class=\"sk-toggleable__content\"><pre>KNeighborsClassifier(n_neighbors=3)</pre></div></div></div></div></div>"
      ],
      "text/plain": [
       "KNeighborsClassifier(n_neighbors=3)"
      ]
     },
     "execution_count": 339,
     "metadata": {},
     "output_type": "execute_result"
    }
   ],
   "source": [
    "import numpy as np\n",
    "from sklearn.neighbors import KNeighborsClassifier\n",
    "from sklearn.metrics import accuracy_score\n",
    "from sklearn.model_selection import train_test_split\n",
    "\n",
    "# 라벨링된 데이터 생성\n",
    "X_labeled = scaled_data\n",
    "\n",
    "Z37 = [0, 0, 0, 0, 1, 1, 0, 0, 1, 1, 0, 0, 0, 1, 1, 0, 0, 0, 1, 1, 0, 0, 0, 0, 0, 0, 0, 0, 0, 0, 0, 0]\n",
    "Z54 = [0, 0, 0, 0, 0, 0, 1, 1, 1, 0, 0, 0, 1, 1, 0, 0, 0, 1, 1, 0, 0]\n",
    "Z56 = [0, 0, 0, 1, 1, 0, 0, 1, 1, 0, 0, 1, 0, 0, 1, 0, 0, 0, 1, 0, 0, 0, 0, 0, 0, 0, 0, 0, 0, 0, 0, 0]\n",
    "Z115 = [0,0,0,1,1,0,0,0,1,1,0,0,0,1,1,0,0,0]\n",
    "Z59 = [1,1,1,1,1,0,0,1,1,0,0,1,1,0,0,1,1,0,0,1,1,1,1,1,1,1,1,1,1,1,1,1]\n",
    "Z62 = [0,0,0,0,0,1,1,0,0,0,1,1,1,0,0,0,1,1,0,0,0,1,1,0,0,0] # 6, 9, 19, 22, 26, 29 번 frame 제거\n",
    "Z61 = [0,0,0,1,0,0,0,1,0,0,0,1,0,0,1,1,0,0,0,0] # 4 번 frame 제거\n",
    "Z84 = [0,0,0,0,1,0,0,1,0,0,1,0] # 12 번 frame 제거\n",
    "Z3 = [0,0,0,0,1,1,0,0,1,0,0,1,0,0,1,1,0] # 7, 10, 14, 20 번 frame 제거\n",
    "Z98 = [0,0,0,1,1,0,0,1,1,0,0,1,1,0,0,1,1,1,0,1,1,1,0,0,1,1,0] # 28번 이후로 제거\n",
    "\n",
    "y_labeled = np.array((Z37 + Z54 + Z56 + Z115 + Z59 + Z62 + Z61 + Z84 + Z3))\n",
    "\n",
    "# 라벨링되지 않은 데이터 생성\n",
    "# X_unlabeled = data[-1].reshape(1, -1)\n",
    "\n",
    "# kNN 분류기 생성 및 학습\n",
    "k = 3  # k값 설정\n",
    "knn_classifier = KNeighborsClassifier(n_neighbors=k)\n",
    "knn_classifier.fit([d.reshape(-1) for d in X_labeled], y_labeled)\n",
    "\n",
    "# 라벨링되지 않은 데이터 분류\n",
    "# y_pred = knn_classifier.predict(X_unlabeled)\n",
    "\n",
    "# # 분류 결과 출력\n",
    "# print(\"라벨링되지 않은 데이터의 예측 결과:\", y_pred)\n",
    "\n",
    "# # 분류 결과를 평가\n",
    "# y_true = np.array([0])\n",
    "# accuracy = accuracy_score(y_true, y_pred)\n",
    "# print(\"Accuracy:\", accuracy)"
   ]
  },
  {
   "cell_type": "code",
   "execution_count": 278,
   "metadata": {},
   "outputs": [
    {
     "data": {
      "text/plain": [
       "17"
      ]
     },
     "execution_count": 278,
     "metadata": {},
     "output_type": "execute_result"
    }
   ],
   "source": [
    "[0,0,0,0,1,1,0,0,1,0,0,1,0,0,1,1,0].__len__()"
   ]
  },
  {
   "cell_type": "markdown",
   "metadata": {},
   "source": [
    "# Decision Tree"
   ]
  },
  {
   "cell_type": "code",
   "execution_count": 316,
   "metadata": {},
   "outputs": [
    {
     "data": {
      "text/html": [
       "<style>#sk-container-id-40 {color: black;}#sk-container-id-40 pre{padding: 0;}#sk-container-id-40 div.sk-toggleable {background-color: white;}#sk-container-id-40 label.sk-toggleable__label {cursor: pointer;display: block;width: 100%;margin-bottom: 0;padding: 0.3em;box-sizing: border-box;text-align: center;}#sk-container-id-40 label.sk-toggleable__label-arrow:before {content: \"▸\";float: left;margin-right: 0.25em;color: #696969;}#sk-container-id-40 label.sk-toggleable__label-arrow:hover:before {color: black;}#sk-container-id-40 div.sk-estimator:hover label.sk-toggleable__label-arrow:before {color: black;}#sk-container-id-40 div.sk-toggleable__content {max-height: 0;max-width: 0;overflow: hidden;text-align: left;background-color: #f0f8ff;}#sk-container-id-40 div.sk-toggleable__content pre {margin: 0.2em;color: black;border-radius: 0.25em;background-color: #f0f8ff;}#sk-container-id-40 input.sk-toggleable__control:checked~div.sk-toggleable__content {max-height: 200px;max-width: 100%;overflow: auto;}#sk-container-id-40 input.sk-toggleable__control:checked~label.sk-toggleable__label-arrow:before {content: \"▾\";}#sk-container-id-40 div.sk-estimator input.sk-toggleable__control:checked~label.sk-toggleable__label {background-color: #d4ebff;}#sk-container-id-40 div.sk-label input.sk-toggleable__control:checked~label.sk-toggleable__label {background-color: #d4ebff;}#sk-container-id-40 input.sk-hidden--visually {border: 0;clip: rect(1px 1px 1px 1px);clip: rect(1px, 1px, 1px, 1px);height: 1px;margin: -1px;overflow: hidden;padding: 0;position: absolute;width: 1px;}#sk-container-id-40 div.sk-estimator {font-family: monospace;background-color: #f0f8ff;border: 1px dotted black;border-radius: 0.25em;box-sizing: border-box;margin-bottom: 0.5em;}#sk-container-id-40 div.sk-estimator:hover {background-color: #d4ebff;}#sk-container-id-40 div.sk-parallel-item::after {content: \"\";width: 100%;border-bottom: 1px solid gray;flex-grow: 1;}#sk-container-id-40 div.sk-label:hover label.sk-toggleable__label {background-color: #d4ebff;}#sk-container-id-40 div.sk-serial::before {content: \"\";position: absolute;border-left: 1px solid gray;box-sizing: border-box;top: 0;bottom: 0;left: 50%;z-index: 0;}#sk-container-id-40 div.sk-serial {display: flex;flex-direction: column;align-items: center;background-color: white;padding-right: 0.2em;padding-left: 0.2em;position: relative;}#sk-container-id-40 div.sk-item {position: relative;z-index: 1;}#sk-container-id-40 div.sk-parallel {display: flex;align-items: stretch;justify-content: center;background-color: white;position: relative;}#sk-container-id-40 div.sk-item::before, #sk-container-id-40 div.sk-parallel-item::before {content: \"\";position: absolute;border-left: 1px solid gray;box-sizing: border-box;top: 0;bottom: 0;left: 50%;z-index: -1;}#sk-container-id-40 div.sk-parallel-item {display: flex;flex-direction: column;z-index: 1;position: relative;background-color: white;}#sk-container-id-40 div.sk-parallel-item:first-child::after {align-self: flex-end;width: 50%;}#sk-container-id-40 div.sk-parallel-item:last-child::after {align-self: flex-start;width: 50%;}#sk-container-id-40 div.sk-parallel-item:only-child::after {width: 0;}#sk-container-id-40 div.sk-dashed-wrapped {border: 1px dashed gray;margin: 0 0.4em 0.5em 0.4em;box-sizing: border-box;padding-bottom: 0.4em;background-color: white;}#sk-container-id-40 div.sk-label label {font-family: monospace;font-weight: bold;display: inline-block;line-height: 1.2em;}#sk-container-id-40 div.sk-label-container {text-align: center;}#sk-container-id-40 div.sk-container {/* jupyter's `normalize.less` sets `[hidden] { display: none; }` but bootstrap.min.css set `[hidden] { display: none !important; }` so we also need the `!important` here to be able to override the default hidden behavior on the sphinx rendered scikit-learn.org. See: https://github.com/scikit-learn/scikit-learn/issues/21755 */display: inline-block !important;position: relative;}#sk-container-id-40 div.sk-text-repr-fallback {display: none;}</style><div id=\"sk-container-id-40\" class=\"sk-top-container\"><div class=\"sk-text-repr-fallback\"><pre>DecisionTreeClassifier()</pre><b>In a Jupyter environment, please rerun this cell to show the HTML representation or trust the notebook. <br />On GitHub, the HTML representation is unable to render, please try loading this page with nbviewer.org.</b></div><div class=\"sk-container\" hidden><div class=\"sk-item\"><div class=\"sk-estimator sk-toggleable\"><input class=\"sk-toggleable__control sk-hidden--visually\" id=\"sk-estimator-id-60\" type=\"checkbox\" checked><label for=\"sk-estimator-id-60\" class=\"sk-toggleable__label sk-toggleable__label-arrow\">DecisionTreeClassifier</label><div class=\"sk-toggleable__content\"><pre>DecisionTreeClassifier()</pre></div></div></div></div></div>"
      ],
      "text/plain": [
       "DecisionTreeClassifier()"
      ]
     },
     "execution_count": 316,
     "metadata": {},
     "output_type": "execute_result"
    }
   ],
   "source": [
    "from sklearn.model_selection import train_test_split\n",
    "from sklearn.tree import DecisionTreeClassifier\n",
    "from sklearn.metrics import classification_report\n",
    "\n",
    "# # 가정: X가 입력 데이터 (특성), y가 타겟 데이터 (레이블)\n",
    "# X = np.random.rand(1000, 96) # 임의로 생성한 것입니다.\n",
    "# y = np.random.randint(0, 2, 1000) # 임의로 생성한 것입니다.\n",
    "\n",
    "# Train-test split\n",
    "# X_train, X_test, y_train, y_test = train_test_split(X, y)\n",
    "\n",
    "# Create a decision tree classifier and fit it to the training data\n",
    "dtree = DecisionTreeClassifier()\n",
    "dtree.fit([d.reshape(-1) for d in X_labeled],y_labeled)\n",
    "\n",
    "# Use the fitted model to make predictions on the test data and print a classification report\n",
    "# predictions = dtree.predict(X_test)\n",
    "# print(classification_report(y_test,predictions))\n"
   ]
  },
  {
   "cell_type": "markdown",
   "metadata": {},
   "source": [
    "# SVM"
   ]
  },
  {
   "cell_type": "code",
   "execution_count": 287,
   "metadata": {},
   "outputs": [],
   "source": [
    "from sklearn import svm\n",
    "\n",
    "# Create a SVM classifier and fit it to the training data\n",
    "# clf = svm.SVC()\n",
    "# clf.fit([d.reshape(-1) for d in X_labeled],y_labeled)\n"
   ]
  },
  {
   "cell_type": "markdown",
   "metadata": {},
   "source": [
    "# Random Forest"
   ]
  },
  {
   "cell_type": "code",
   "execution_count": 317,
   "metadata": {},
   "outputs": [
    {
     "data": {
      "text/html": [
       "<style>#sk-container-id-41 {color: black;}#sk-container-id-41 pre{padding: 0;}#sk-container-id-41 div.sk-toggleable {background-color: white;}#sk-container-id-41 label.sk-toggleable__label {cursor: pointer;display: block;width: 100%;margin-bottom: 0;padding: 0.3em;box-sizing: border-box;text-align: center;}#sk-container-id-41 label.sk-toggleable__label-arrow:before {content: \"▸\";float: left;margin-right: 0.25em;color: #696969;}#sk-container-id-41 label.sk-toggleable__label-arrow:hover:before {color: black;}#sk-container-id-41 div.sk-estimator:hover label.sk-toggleable__label-arrow:before {color: black;}#sk-container-id-41 div.sk-toggleable__content {max-height: 0;max-width: 0;overflow: hidden;text-align: left;background-color: #f0f8ff;}#sk-container-id-41 div.sk-toggleable__content pre {margin: 0.2em;color: black;border-radius: 0.25em;background-color: #f0f8ff;}#sk-container-id-41 input.sk-toggleable__control:checked~div.sk-toggleable__content {max-height: 200px;max-width: 100%;overflow: auto;}#sk-container-id-41 input.sk-toggleable__control:checked~label.sk-toggleable__label-arrow:before {content: \"▾\";}#sk-container-id-41 div.sk-estimator input.sk-toggleable__control:checked~label.sk-toggleable__label {background-color: #d4ebff;}#sk-container-id-41 div.sk-label input.sk-toggleable__control:checked~label.sk-toggleable__label {background-color: #d4ebff;}#sk-container-id-41 input.sk-hidden--visually {border: 0;clip: rect(1px 1px 1px 1px);clip: rect(1px, 1px, 1px, 1px);height: 1px;margin: -1px;overflow: hidden;padding: 0;position: absolute;width: 1px;}#sk-container-id-41 div.sk-estimator {font-family: monospace;background-color: #f0f8ff;border: 1px dotted black;border-radius: 0.25em;box-sizing: border-box;margin-bottom: 0.5em;}#sk-container-id-41 div.sk-estimator:hover {background-color: #d4ebff;}#sk-container-id-41 div.sk-parallel-item::after {content: \"\";width: 100%;border-bottom: 1px solid gray;flex-grow: 1;}#sk-container-id-41 div.sk-label:hover label.sk-toggleable__label {background-color: #d4ebff;}#sk-container-id-41 div.sk-serial::before {content: \"\";position: absolute;border-left: 1px solid gray;box-sizing: border-box;top: 0;bottom: 0;left: 50%;z-index: 0;}#sk-container-id-41 div.sk-serial {display: flex;flex-direction: column;align-items: center;background-color: white;padding-right: 0.2em;padding-left: 0.2em;position: relative;}#sk-container-id-41 div.sk-item {position: relative;z-index: 1;}#sk-container-id-41 div.sk-parallel {display: flex;align-items: stretch;justify-content: center;background-color: white;position: relative;}#sk-container-id-41 div.sk-item::before, #sk-container-id-41 div.sk-parallel-item::before {content: \"\";position: absolute;border-left: 1px solid gray;box-sizing: border-box;top: 0;bottom: 0;left: 50%;z-index: -1;}#sk-container-id-41 div.sk-parallel-item {display: flex;flex-direction: column;z-index: 1;position: relative;background-color: white;}#sk-container-id-41 div.sk-parallel-item:first-child::after {align-self: flex-end;width: 50%;}#sk-container-id-41 div.sk-parallel-item:last-child::after {align-self: flex-start;width: 50%;}#sk-container-id-41 div.sk-parallel-item:only-child::after {width: 0;}#sk-container-id-41 div.sk-dashed-wrapped {border: 1px dashed gray;margin: 0 0.4em 0.5em 0.4em;box-sizing: border-box;padding-bottom: 0.4em;background-color: white;}#sk-container-id-41 div.sk-label label {font-family: monospace;font-weight: bold;display: inline-block;line-height: 1.2em;}#sk-container-id-41 div.sk-label-container {text-align: center;}#sk-container-id-41 div.sk-container {/* jupyter's `normalize.less` sets `[hidden] { display: none; }` but bootstrap.min.css set `[hidden] { display: none !important; }` so we also need the `!important` here to be able to override the default hidden behavior on the sphinx rendered scikit-learn.org. See: https://github.com/scikit-learn/scikit-learn/issues/21755 */display: inline-block !important;position: relative;}#sk-container-id-41 div.sk-text-repr-fallback {display: none;}</style><div id=\"sk-container-id-41\" class=\"sk-top-container\"><div class=\"sk-text-repr-fallback\"><pre>RandomForestClassifier()</pre><b>In a Jupyter environment, please rerun this cell to show the HTML representation or trust the notebook. <br />On GitHub, the HTML representation is unable to render, please try loading this page with nbviewer.org.</b></div><div class=\"sk-container\" hidden><div class=\"sk-item\"><div class=\"sk-estimator sk-toggleable\"><input class=\"sk-toggleable__control sk-hidden--visually\" id=\"sk-estimator-id-61\" type=\"checkbox\" checked><label for=\"sk-estimator-id-61\" class=\"sk-toggleable__label sk-toggleable__label-arrow\">RandomForestClassifier</label><div class=\"sk-toggleable__content\"><pre>RandomForestClassifier()</pre></div></div></div></div></div>"
      ],
      "text/plain": [
       "RandomForestClassifier()"
      ]
     },
     "execution_count": 317,
     "metadata": {},
     "output_type": "execute_result"
    }
   ],
   "source": [
    "from sklearn.ensemble import RandomForestClassifier\n",
    "\n",
    "rfc = RandomForestClassifier()\n",
    "rfc.fit([d.reshape(-1) for d in X_labeled],y_labeled)"
   ]
  },
  {
   "cell_type": "markdown",
   "metadata": {},
   "source": [
    "# Gradient Boosting"
   ]
  },
  {
   "cell_type": "code",
   "execution_count": 318,
   "metadata": {},
   "outputs": [
    {
     "data": {
      "text/html": [
       "<style>#sk-container-id-42 {color: black;}#sk-container-id-42 pre{padding: 0;}#sk-container-id-42 div.sk-toggleable {background-color: white;}#sk-container-id-42 label.sk-toggleable__label {cursor: pointer;display: block;width: 100%;margin-bottom: 0;padding: 0.3em;box-sizing: border-box;text-align: center;}#sk-container-id-42 label.sk-toggleable__label-arrow:before {content: \"▸\";float: left;margin-right: 0.25em;color: #696969;}#sk-container-id-42 label.sk-toggleable__label-arrow:hover:before {color: black;}#sk-container-id-42 div.sk-estimator:hover label.sk-toggleable__label-arrow:before {color: black;}#sk-container-id-42 div.sk-toggleable__content {max-height: 0;max-width: 0;overflow: hidden;text-align: left;background-color: #f0f8ff;}#sk-container-id-42 div.sk-toggleable__content pre {margin: 0.2em;color: black;border-radius: 0.25em;background-color: #f0f8ff;}#sk-container-id-42 input.sk-toggleable__control:checked~div.sk-toggleable__content {max-height: 200px;max-width: 100%;overflow: auto;}#sk-container-id-42 input.sk-toggleable__control:checked~label.sk-toggleable__label-arrow:before {content: \"▾\";}#sk-container-id-42 div.sk-estimator input.sk-toggleable__control:checked~label.sk-toggleable__label {background-color: #d4ebff;}#sk-container-id-42 div.sk-label input.sk-toggleable__control:checked~label.sk-toggleable__label {background-color: #d4ebff;}#sk-container-id-42 input.sk-hidden--visually {border: 0;clip: rect(1px 1px 1px 1px);clip: rect(1px, 1px, 1px, 1px);height: 1px;margin: -1px;overflow: hidden;padding: 0;position: absolute;width: 1px;}#sk-container-id-42 div.sk-estimator {font-family: monospace;background-color: #f0f8ff;border: 1px dotted black;border-radius: 0.25em;box-sizing: border-box;margin-bottom: 0.5em;}#sk-container-id-42 div.sk-estimator:hover {background-color: #d4ebff;}#sk-container-id-42 div.sk-parallel-item::after {content: \"\";width: 100%;border-bottom: 1px solid gray;flex-grow: 1;}#sk-container-id-42 div.sk-label:hover label.sk-toggleable__label {background-color: #d4ebff;}#sk-container-id-42 div.sk-serial::before {content: \"\";position: absolute;border-left: 1px solid gray;box-sizing: border-box;top: 0;bottom: 0;left: 50%;z-index: 0;}#sk-container-id-42 div.sk-serial {display: flex;flex-direction: column;align-items: center;background-color: white;padding-right: 0.2em;padding-left: 0.2em;position: relative;}#sk-container-id-42 div.sk-item {position: relative;z-index: 1;}#sk-container-id-42 div.sk-parallel {display: flex;align-items: stretch;justify-content: center;background-color: white;position: relative;}#sk-container-id-42 div.sk-item::before, #sk-container-id-42 div.sk-parallel-item::before {content: \"\";position: absolute;border-left: 1px solid gray;box-sizing: border-box;top: 0;bottom: 0;left: 50%;z-index: -1;}#sk-container-id-42 div.sk-parallel-item {display: flex;flex-direction: column;z-index: 1;position: relative;background-color: white;}#sk-container-id-42 div.sk-parallel-item:first-child::after {align-self: flex-end;width: 50%;}#sk-container-id-42 div.sk-parallel-item:last-child::after {align-self: flex-start;width: 50%;}#sk-container-id-42 div.sk-parallel-item:only-child::after {width: 0;}#sk-container-id-42 div.sk-dashed-wrapped {border: 1px dashed gray;margin: 0 0.4em 0.5em 0.4em;box-sizing: border-box;padding-bottom: 0.4em;background-color: white;}#sk-container-id-42 div.sk-label label {font-family: monospace;font-weight: bold;display: inline-block;line-height: 1.2em;}#sk-container-id-42 div.sk-label-container {text-align: center;}#sk-container-id-42 div.sk-container {/* jupyter's `normalize.less` sets `[hidden] { display: none; }` but bootstrap.min.css set `[hidden] { display: none !important; }` so we also need the `!important` here to be able to override the default hidden behavior on the sphinx rendered scikit-learn.org. See: https://github.com/scikit-learn/scikit-learn/issues/21755 */display: inline-block !important;position: relative;}#sk-container-id-42 div.sk-text-repr-fallback {display: none;}</style><div id=\"sk-container-id-42\" class=\"sk-top-container\"><div class=\"sk-text-repr-fallback\"><pre>GradientBoostingClassifier()</pre><b>In a Jupyter environment, please rerun this cell to show the HTML representation or trust the notebook. <br />On GitHub, the HTML representation is unable to render, please try loading this page with nbviewer.org.</b></div><div class=\"sk-container\" hidden><div class=\"sk-item\"><div class=\"sk-estimator sk-toggleable\"><input class=\"sk-toggleable__control sk-hidden--visually\" id=\"sk-estimator-id-62\" type=\"checkbox\" checked><label for=\"sk-estimator-id-62\" class=\"sk-toggleable__label sk-toggleable__label-arrow\">GradientBoostingClassifier</label><div class=\"sk-toggleable__content\"><pre>GradientBoostingClassifier()</pre></div></div></div></div></div>"
      ],
      "text/plain": [
       "GradientBoostingClassifier()"
      ]
     },
     "execution_count": 318,
     "metadata": {},
     "output_type": "execute_result"
    }
   ],
   "source": [
    "from sklearn.ensemble import GradientBoostingClassifier\n",
    "\n",
    "gbc = GradientBoostingClassifier()\n",
    "gbc.fit([d.reshape(-1) for d in X_labeled],y_labeled)"
   ]
  },
  {
   "cell_type": "markdown",
   "metadata": {},
   "source": [
    "# XGBoost"
   ]
  },
  {
   "cell_type": "code",
   "execution_count": 319,
   "metadata": {},
   "outputs": [
    {
     "data": {
      "text/html": [
       "<style>#sk-container-id-43 {color: black;}#sk-container-id-43 pre{padding: 0;}#sk-container-id-43 div.sk-toggleable {background-color: white;}#sk-container-id-43 label.sk-toggleable__label {cursor: pointer;display: block;width: 100%;margin-bottom: 0;padding: 0.3em;box-sizing: border-box;text-align: center;}#sk-container-id-43 label.sk-toggleable__label-arrow:before {content: \"▸\";float: left;margin-right: 0.25em;color: #696969;}#sk-container-id-43 label.sk-toggleable__label-arrow:hover:before {color: black;}#sk-container-id-43 div.sk-estimator:hover label.sk-toggleable__label-arrow:before {color: black;}#sk-container-id-43 div.sk-toggleable__content {max-height: 0;max-width: 0;overflow: hidden;text-align: left;background-color: #f0f8ff;}#sk-container-id-43 div.sk-toggleable__content pre {margin: 0.2em;color: black;border-radius: 0.25em;background-color: #f0f8ff;}#sk-container-id-43 input.sk-toggleable__control:checked~div.sk-toggleable__content {max-height: 200px;max-width: 100%;overflow: auto;}#sk-container-id-43 input.sk-toggleable__control:checked~label.sk-toggleable__label-arrow:before {content: \"▾\";}#sk-container-id-43 div.sk-estimator input.sk-toggleable__control:checked~label.sk-toggleable__label {background-color: #d4ebff;}#sk-container-id-43 div.sk-label input.sk-toggleable__control:checked~label.sk-toggleable__label {background-color: #d4ebff;}#sk-container-id-43 input.sk-hidden--visually {border: 0;clip: rect(1px 1px 1px 1px);clip: rect(1px, 1px, 1px, 1px);height: 1px;margin: -1px;overflow: hidden;padding: 0;position: absolute;width: 1px;}#sk-container-id-43 div.sk-estimator {font-family: monospace;background-color: #f0f8ff;border: 1px dotted black;border-radius: 0.25em;box-sizing: border-box;margin-bottom: 0.5em;}#sk-container-id-43 div.sk-estimator:hover {background-color: #d4ebff;}#sk-container-id-43 div.sk-parallel-item::after {content: \"\";width: 100%;border-bottom: 1px solid gray;flex-grow: 1;}#sk-container-id-43 div.sk-label:hover label.sk-toggleable__label {background-color: #d4ebff;}#sk-container-id-43 div.sk-serial::before {content: \"\";position: absolute;border-left: 1px solid gray;box-sizing: border-box;top: 0;bottom: 0;left: 50%;z-index: 0;}#sk-container-id-43 div.sk-serial {display: flex;flex-direction: column;align-items: center;background-color: white;padding-right: 0.2em;padding-left: 0.2em;position: relative;}#sk-container-id-43 div.sk-item {position: relative;z-index: 1;}#sk-container-id-43 div.sk-parallel {display: flex;align-items: stretch;justify-content: center;background-color: white;position: relative;}#sk-container-id-43 div.sk-item::before, #sk-container-id-43 div.sk-parallel-item::before {content: \"\";position: absolute;border-left: 1px solid gray;box-sizing: border-box;top: 0;bottom: 0;left: 50%;z-index: -1;}#sk-container-id-43 div.sk-parallel-item {display: flex;flex-direction: column;z-index: 1;position: relative;background-color: white;}#sk-container-id-43 div.sk-parallel-item:first-child::after {align-self: flex-end;width: 50%;}#sk-container-id-43 div.sk-parallel-item:last-child::after {align-self: flex-start;width: 50%;}#sk-container-id-43 div.sk-parallel-item:only-child::after {width: 0;}#sk-container-id-43 div.sk-dashed-wrapped {border: 1px dashed gray;margin: 0 0.4em 0.5em 0.4em;box-sizing: border-box;padding-bottom: 0.4em;background-color: white;}#sk-container-id-43 div.sk-label label {font-family: monospace;font-weight: bold;display: inline-block;line-height: 1.2em;}#sk-container-id-43 div.sk-label-container {text-align: center;}#sk-container-id-43 div.sk-container {/* jupyter's `normalize.less` sets `[hidden] { display: none; }` but bootstrap.min.css set `[hidden] { display: none !important; }` so we also need the `!important` here to be able to override the default hidden behavior on the sphinx rendered scikit-learn.org. See: https://github.com/scikit-learn/scikit-learn/issues/21755 */display: inline-block !important;position: relative;}#sk-container-id-43 div.sk-text-repr-fallback {display: none;}</style><div id=\"sk-container-id-43\" class=\"sk-top-container\"><div class=\"sk-text-repr-fallback\"><pre>XGBClassifier(base_score=None, booster=None, callbacks=None,\n",
       "              colsample_bylevel=None, colsample_bynode=None,\n",
       "              colsample_bytree=None, device=None, early_stopping_rounds=None,\n",
       "              enable_categorical=False, eval_metric=None, feature_types=None,\n",
       "              gamma=None, grow_policy=None, importance_type=None,\n",
       "              interaction_constraints=None, learning_rate=0.1, max_bin=None,\n",
       "              max_cat_threshold=None, max_cat_to_onehot=None,\n",
       "              max_delta_step=None, max_depth=3, max_leaves=None,\n",
       "              min_child_weight=None, missing=nan, monotone_constraints=None,\n",
       "              multi_strategy=None, n_estimators=100, n_jobs=None,\n",
       "              num_parallel_tree=None, random_state=42, ...)</pre><b>In a Jupyter environment, please rerun this cell to show the HTML representation or trust the notebook. <br />On GitHub, the HTML representation is unable to render, please try loading this page with nbviewer.org.</b></div><div class=\"sk-container\" hidden><div class=\"sk-item\"><div class=\"sk-estimator sk-toggleable\"><input class=\"sk-toggleable__control sk-hidden--visually\" id=\"sk-estimator-id-63\" type=\"checkbox\" checked><label for=\"sk-estimator-id-63\" class=\"sk-toggleable__label sk-toggleable__label-arrow\">XGBClassifier</label><div class=\"sk-toggleable__content\"><pre>XGBClassifier(base_score=None, booster=None, callbacks=None,\n",
       "              colsample_bylevel=None, colsample_bynode=None,\n",
       "              colsample_bytree=None, device=None, early_stopping_rounds=None,\n",
       "              enable_categorical=False, eval_metric=None, feature_types=None,\n",
       "              gamma=None, grow_policy=None, importance_type=None,\n",
       "              interaction_constraints=None, learning_rate=0.1, max_bin=None,\n",
       "              max_cat_threshold=None, max_cat_to_onehot=None,\n",
       "              max_delta_step=None, max_depth=3, max_leaves=None,\n",
       "              min_child_weight=None, missing=nan, monotone_constraints=None,\n",
       "              multi_strategy=None, n_estimators=100, n_jobs=None,\n",
       "              num_parallel_tree=None, random_state=42, ...)</pre></div></div></div></div></div>"
      ],
      "text/plain": [
       "XGBClassifier(base_score=None, booster=None, callbacks=None,\n",
       "              colsample_bylevel=None, colsample_bynode=None,\n",
       "              colsample_bytree=None, device=None, early_stopping_rounds=None,\n",
       "              enable_categorical=False, eval_metric=None, feature_types=None,\n",
       "              gamma=None, grow_policy=None, importance_type=None,\n",
       "              interaction_constraints=None, learning_rate=0.1, max_bin=None,\n",
       "              max_cat_threshold=None, max_cat_to_onehot=None,\n",
       "              max_delta_step=None, max_depth=3, max_leaves=None,\n",
       "              min_child_weight=None, missing=nan, monotone_constraints=None,\n",
       "              multi_strategy=None, n_estimators=100, n_jobs=None,\n",
       "              num_parallel_tree=None, random_state=42, ...)"
      ]
     },
     "execution_count": 319,
     "metadata": {},
     "output_type": "execute_result"
    }
   ],
   "source": [
    "import xgboost as xgb\n",
    "\n",
    "xbc = xgb.XGBClassifier(\n",
    "    n_estimators=100,  # 트리 개수 (나무 개수)\n",
    "    max_depth=3,       # 트리의 최대 깊이\n",
    "    learning_rate=0.1, # 학습률 (보통 작은 값을 선택)\n",
    "    random_state=42    # 랜덤 시드\n",
    ")\n",
    "\n",
    "# 모델 학습\n",
    "xbc.fit([d.reshape(-1) for d in X_labeled],y_labeled)"
   ]
  },
  {
   "cell_type": "markdown",
   "metadata": {},
   "source": [
    "# Ensemble"
   ]
  },
  {
   "cell_type": "code",
   "execution_count": 320,
   "metadata": {},
   "outputs": [
    {
     "data": {
      "text/html": [
       "<style>#sk-container-id-44 {color: black;}#sk-container-id-44 pre{padding: 0;}#sk-container-id-44 div.sk-toggleable {background-color: white;}#sk-container-id-44 label.sk-toggleable__label {cursor: pointer;display: block;width: 100%;margin-bottom: 0;padding: 0.3em;box-sizing: border-box;text-align: center;}#sk-container-id-44 label.sk-toggleable__label-arrow:before {content: \"▸\";float: left;margin-right: 0.25em;color: #696969;}#sk-container-id-44 label.sk-toggleable__label-arrow:hover:before {color: black;}#sk-container-id-44 div.sk-estimator:hover label.sk-toggleable__label-arrow:before {color: black;}#sk-container-id-44 div.sk-toggleable__content {max-height: 0;max-width: 0;overflow: hidden;text-align: left;background-color: #f0f8ff;}#sk-container-id-44 div.sk-toggleable__content pre {margin: 0.2em;color: black;border-radius: 0.25em;background-color: #f0f8ff;}#sk-container-id-44 input.sk-toggleable__control:checked~div.sk-toggleable__content {max-height: 200px;max-width: 100%;overflow: auto;}#sk-container-id-44 input.sk-toggleable__control:checked~label.sk-toggleable__label-arrow:before {content: \"▾\";}#sk-container-id-44 div.sk-estimator input.sk-toggleable__control:checked~label.sk-toggleable__label {background-color: #d4ebff;}#sk-container-id-44 div.sk-label input.sk-toggleable__control:checked~label.sk-toggleable__label {background-color: #d4ebff;}#sk-container-id-44 input.sk-hidden--visually {border: 0;clip: rect(1px 1px 1px 1px);clip: rect(1px, 1px, 1px, 1px);height: 1px;margin: -1px;overflow: hidden;padding: 0;position: absolute;width: 1px;}#sk-container-id-44 div.sk-estimator {font-family: monospace;background-color: #f0f8ff;border: 1px dotted black;border-radius: 0.25em;box-sizing: border-box;margin-bottom: 0.5em;}#sk-container-id-44 div.sk-estimator:hover {background-color: #d4ebff;}#sk-container-id-44 div.sk-parallel-item::after {content: \"\";width: 100%;border-bottom: 1px solid gray;flex-grow: 1;}#sk-container-id-44 div.sk-label:hover label.sk-toggleable__label {background-color: #d4ebff;}#sk-container-id-44 div.sk-serial::before {content: \"\";position: absolute;border-left: 1px solid gray;box-sizing: border-box;top: 0;bottom: 0;left: 50%;z-index: 0;}#sk-container-id-44 div.sk-serial {display: flex;flex-direction: column;align-items: center;background-color: white;padding-right: 0.2em;padding-left: 0.2em;position: relative;}#sk-container-id-44 div.sk-item {position: relative;z-index: 1;}#sk-container-id-44 div.sk-parallel {display: flex;align-items: stretch;justify-content: center;background-color: white;position: relative;}#sk-container-id-44 div.sk-item::before, #sk-container-id-44 div.sk-parallel-item::before {content: \"\";position: absolute;border-left: 1px solid gray;box-sizing: border-box;top: 0;bottom: 0;left: 50%;z-index: -1;}#sk-container-id-44 div.sk-parallel-item {display: flex;flex-direction: column;z-index: 1;position: relative;background-color: white;}#sk-container-id-44 div.sk-parallel-item:first-child::after {align-self: flex-end;width: 50%;}#sk-container-id-44 div.sk-parallel-item:last-child::after {align-self: flex-start;width: 50%;}#sk-container-id-44 div.sk-parallel-item:only-child::after {width: 0;}#sk-container-id-44 div.sk-dashed-wrapped {border: 1px dashed gray;margin: 0 0.4em 0.5em 0.4em;box-sizing: border-box;padding-bottom: 0.4em;background-color: white;}#sk-container-id-44 div.sk-label label {font-family: monospace;font-weight: bold;display: inline-block;line-height: 1.2em;}#sk-container-id-44 div.sk-label-container {text-align: center;}#sk-container-id-44 div.sk-container {/* jupyter's `normalize.less` sets `[hidden] { display: none; }` but bootstrap.min.css set `[hidden] { display: none !important; }` so we also need the `!important` here to be able to override the default hidden behavior on the sphinx rendered scikit-learn.org. See: https://github.com/scikit-learn/scikit-learn/issues/21755 */display: inline-block !important;position: relative;}#sk-container-id-44 div.sk-text-repr-fallback {display: none;}</style><div id=\"sk-container-id-44\" class=\"sk-top-container\"><div class=\"sk-text-repr-fallback\"><pre>VotingClassifier(estimators=[(&#x27;knn&#x27;, KNeighborsClassifier(n_neighbors=3)),\n",
       "                             (&#x27;dtree&#x27;, DecisionTreeClassifier()),\n",
       "                             (&#x27;rfc&#x27;, RandomForestClassifier()),\n",
       "                             (&#x27;gbc&#x27;, GradientBoostingClassifier()),\n",
       "                             (&#x27;xbc&#x27;,\n",
       "                              XGBClassifier(base_score=None, booster=None,\n",
       "                                            callbacks=None,\n",
       "                                            colsample_bylevel=None,\n",
       "                                            colsample_bynode=None,\n",
       "                                            colsample_bytree=None, device=None,\n",
       "                                            early_stopping_rounds=None,\n",
       "                                            e...\n",
       "                                            feature_types=None, gamma=None,\n",
       "                                            grow_policy=None,\n",
       "                                            importance_type=None,\n",
       "                                            interaction_constraints=None,\n",
       "                                            learning_rate=0.1, max_bin=None,\n",
       "                                            max_cat_threshold=None,\n",
       "                                            max_cat_to_onehot=None,\n",
       "                                            max_delta_step=None, max_depth=3,\n",
       "                                            max_leaves=None,\n",
       "                                            min_child_weight=None, missing=nan,\n",
       "                                            monotone_constraints=None,\n",
       "                                            multi_strategy=None,\n",
       "                                            n_estimators=100, n_jobs=None,\n",
       "                                            num_parallel_tree=None,\n",
       "                                            random_state=42, ...))])</pre><b>In a Jupyter environment, please rerun this cell to show the HTML representation or trust the notebook. <br />On GitHub, the HTML representation is unable to render, please try loading this page with nbviewer.org.</b></div><div class=\"sk-container\" hidden><div class=\"sk-item sk-dashed-wrapped\"><div class=\"sk-label-container\"><div class=\"sk-label sk-toggleable\"><input class=\"sk-toggleable__control sk-hidden--visually\" id=\"sk-estimator-id-64\" type=\"checkbox\" ><label for=\"sk-estimator-id-64\" class=\"sk-toggleable__label sk-toggleable__label-arrow\">VotingClassifier</label><div class=\"sk-toggleable__content\"><pre>VotingClassifier(estimators=[(&#x27;knn&#x27;, KNeighborsClassifier(n_neighbors=3)),\n",
       "                             (&#x27;dtree&#x27;, DecisionTreeClassifier()),\n",
       "                             (&#x27;rfc&#x27;, RandomForestClassifier()),\n",
       "                             (&#x27;gbc&#x27;, GradientBoostingClassifier()),\n",
       "                             (&#x27;xbc&#x27;,\n",
       "                              XGBClassifier(base_score=None, booster=None,\n",
       "                                            callbacks=None,\n",
       "                                            colsample_bylevel=None,\n",
       "                                            colsample_bynode=None,\n",
       "                                            colsample_bytree=None, device=None,\n",
       "                                            early_stopping_rounds=None,\n",
       "                                            e...\n",
       "                                            feature_types=None, gamma=None,\n",
       "                                            grow_policy=None,\n",
       "                                            importance_type=None,\n",
       "                                            interaction_constraints=None,\n",
       "                                            learning_rate=0.1, max_bin=None,\n",
       "                                            max_cat_threshold=None,\n",
       "                                            max_cat_to_onehot=None,\n",
       "                                            max_delta_step=None, max_depth=3,\n",
       "                                            max_leaves=None,\n",
       "                                            min_child_weight=None, missing=nan,\n",
       "                                            monotone_constraints=None,\n",
       "                                            multi_strategy=None,\n",
       "                                            n_estimators=100, n_jobs=None,\n",
       "                                            num_parallel_tree=None,\n",
       "                                            random_state=42, ...))])</pre></div></div></div><div class=\"sk-parallel\"><div class=\"sk-parallel-item\"><div class=\"sk-item\"><div class=\"sk-label-container\"><div class=\"sk-label sk-toggleable\"><label>knn</label></div></div><div class=\"sk-serial\"><div class=\"sk-item\"><div class=\"sk-estimator sk-toggleable\"><input class=\"sk-toggleable__control sk-hidden--visually\" id=\"sk-estimator-id-65\" type=\"checkbox\" ><label for=\"sk-estimator-id-65\" class=\"sk-toggleable__label sk-toggleable__label-arrow\">KNeighborsClassifier</label><div class=\"sk-toggleable__content\"><pre>KNeighborsClassifier(n_neighbors=3)</pre></div></div></div></div></div></div><div class=\"sk-parallel-item\"><div class=\"sk-item\"><div class=\"sk-label-container\"><div class=\"sk-label sk-toggleable\"><label>dtree</label></div></div><div class=\"sk-serial\"><div class=\"sk-item\"><div class=\"sk-estimator sk-toggleable\"><input class=\"sk-toggleable__control sk-hidden--visually\" id=\"sk-estimator-id-66\" type=\"checkbox\" ><label for=\"sk-estimator-id-66\" class=\"sk-toggleable__label sk-toggleable__label-arrow\">DecisionTreeClassifier</label><div class=\"sk-toggleable__content\"><pre>DecisionTreeClassifier()</pre></div></div></div></div></div></div><div class=\"sk-parallel-item\"><div class=\"sk-item\"><div class=\"sk-label-container\"><div class=\"sk-label sk-toggleable\"><label>rfc</label></div></div><div class=\"sk-serial\"><div class=\"sk-item\"><div class=\"sk-estimator sk-toggleable\"><input class=\"sk-toggleable__control sk-hidden--visually\" id=\"sk-estimator-id-67\" type=\"checkbox\" ><label for=\"sk-estimator-id-67\" class=\"sk-toggleable__label sk-toggleable__label-arrow\">RandomForestClassifier</label><div class=\"sk-toggleable__content\"><pre>RandomForestClassifier()</pre></div></div></div></div></div></div><div class=\"sk-parallel-item\"><div class=\"sk-item\"><div class=\"sk-label-container\"><div class=\"sk-label sk-toggleable\"><label>gbc</label></div></div><div class=\"sk-serial\"><div class=\"sk-item\"><div class=\"sk-estimator sk-toggleable\"><input class=\"sk-toggleable__control sk-hidden--visually\" id=\"sk-estimator-id-68\" type=\"checkbox\" ><label for=\"sk-estimator-id-68\" class=\"sk-toggleable__label sk-toggleable__label-arrow\">GradientBoostingClassifier</label><div class=\"sk-toggleable__content\"><pre>GradientBoostingClassifier()</pre></div></div></div></div></div></div><div class=\"sk-parallel-item\"><div class=\"sk-item\"><div class=\"sk-label-container\"><div class=\"sk-label sk-toggleable\"><label>xbc</label></div></div><div class=\"sk-serial\"><div class=\"sk-item\"><div class=\"sk-estimator sk-toggleable\"><input class=\"sk-toggleable__control sk-hidden--visually\" id=\"sk-estimator-id-69\" type=\"checkbox\" ><label for=\"sk-estimator-id-69\" class=\"sk-toggleable__label sk-toggleable__label-arrow\">XGBClassifier</label><div class=\"sk-toggleable__content\"><pre>XGBClassifier(base_score=None, booster=None, callbacks=None,\n",
       "              colsample_bylevel=None, colsample_bynode=None,\n",
       "              colsample_bytree=None, device=None, early_stopping_rounds=None,\n",
       "              enable_categorical=False, eval_metric=None, feature_types=None,\n",
       "              gamma=None, grow_policy=None, importance_type=None,\n",
       "              interaction_constraints=None, learning_rate=0.1, max_bin=None,\n",
       "              max_cat_threshold=None, max_cat_to_onehot=None,\n",
       "              max_delta_step=None, max_depth=3, max_leaves=None,\n",
       "              min_child_weight=None, missing=nan, monotone_constraints=None,\n",
       "              multi_strategy=None, n_estimators=100, n_jobs=None,\n",
       "              num_parallel_tree=None, random_state=42, ...)</pre></div></div></div></div></div></div></div></div></div></div>"
      ],
      "text/plain": [
       "VotingClassifier(estimators=[('knn', KNeighborsClassifier(n_neighbors=3)),\n",
       "                             ('dtree', DecisionTreeClassifier()),\n",
       "                             ('rfc', RandomForestClassifier()),\n",
       "                             ('gbc', GradientBoostingClassifier()),\n",
       "                             ('xbc',\n",
       "                              XGBClassifier(base_score=None, booster=None,\n",
       "                                            callbacks=None,\n",
       "                                            colsample_bylevel=None,\n",
       "                                            colsample_bynode=None,\n",
       "                                            colsample_bytree=None, device=None,\n",
       "                                            early_stopping_rounds=None,\n",
       "                                            e...\n",
       "                                            feature_types=None, gamma=None,\n",
       "                                            grow_policy=None,\n",
       "                                            importance_type=None,\n",
       "                                            interaction_constraints=None,\n",
       "                                            learning_rate=0.1, max_bin=None,\n",
       "                                            max_cat_threshold=None,\n",
       "                                            max_cat_to_onehot=None,\n",
       "                                            max_delta_step=None, max_depth=3,\n",
       "                                            max_leaves=None,\n",
       "                                            min_child_weight=None, missing=nan,\n",
       "                                            monotone_constraints=None,\n",
       "                                            multi_strategy=None,\n",
       "                                            n_estimators=100, n_jobs=None,\n",
       "                                            num_parallel_tree=None,\n",
       "                                            random_state=42, ...))])"
      ]
     },
     "execution_count": 320,
     "metadata": {},
     "output_type": "execute_result"
    }
   ],
   "source": [
    "from sklearn.ensemble import VotingClassifier\n",
    "\n",
    "# 각 모델을 생성하고 학습한 상태로 가정합니다.\n",
    "# knn_classifier, dtree, rfc, gbc, xbc 모델이 이미 학습되어 있다고 가정합니다.\n",
    "\n",
    "# 앙상블 모델 정의 (다수결 투표)\n",
    "ensemble_model = VotingClassifier(\n",
    "    estimators=[\n",
    "        ('knn', knn_classifier),\n",
    "        ('dtree', dtree),\n",
    "        ('rfc', rfc),\n",
    "        ('gbc', gbc),\n",
    "        ('xbc', xbc)\n",
    "    ],\n",
    "    voting='hard'  # 다수결 투표 방식 선택 (각 모델의 예측 클래스 중 다수결로 선택)\n",
    ")\n",
    "\n",
    "# 앙상블 모델 학습\n",
    "ensemble_model.fit([d.reshape(-1) for d in X_labeled],y_labeled)\n"
   ]
  },
  {
   "cell_type": "code",
   "execution_count": 59,
   "metadata": {},
   "outputs": [
    {
     "data": {
      "text/plain": [
       "array([[ 0.32656366,  0.50515097, -0.02179609],\n",
       "       [ 0.31800151,  0.49349958, -0.04513201],\n",
       "       [ 0.31794453,  0.49142537, -0.0453023 ],\n",
       "       [ 0.31788245,  0.48977488, -0.04526249],\n",
       "       [ 0.31810534,  0.4933458 , -0.01293141],\n",
       "       [ 0.31811345,  0.49118689, -0.01314239],\n",
       "       [ 0.31810731,  0.48918191, -0.01317994],\n",
       "       [ 0.32264149,  0.47262037, -0.10461833],\n",
       "       [ 0.32333302,  0.47123694,  0.04181893],\n",
       "       [ 0.33540025,  0.50170976, -0.03696424],\n",
       "       [ 0.33606255,  0.50147825,  0.0038694 ],\n",
       "       [ 0.37153131,  0.4862968 , -0.18256582],\n",
       "       [ 0.38253275,  0.46728536,  0.16324808],\n",
       "       [ 0.38152194,  0.6016022 , -0.2272886 ],\n",
       "       [ 0.39785287,  0.57427353,  0.18846899],\n",
       "       [ 0.37953106,  0.71018147, -0.19898111],\n",
       "       [ 0.39415312,  0.65986627,  0.08090755],\n",
       "       [ 0.36255348,  0.71848279, -0.23137677],\n",
       "       [ 0.38021746,  0.66006738,  0.07226449],\n",
       "       [ 0.36129743,  0.71147978, -0.21643601],\n",
       "       [ 0.37859851,  0.66296899,  0.04580407],\n",
       "       [ 0.36761105,  0.70951802, -0.19142325],\n",
       "       [ 0.3833372 ,  0.665941  ,  0.06497754],\n",
       "       [ 0.500651  ,  0.53731722, -0.102817  ],\n",
       "       [ 0.50238103,  0.52411824,  0.10273241],\n",
       "       [ 0.58478665,  0.60079473, -0.04981055],\n",
       "       [ 0.58043385,  0.59284455,  0.17596383],\n",
       "       [ 0.67518795,  0.62795269,  0.02507988],\n",
       "       [ 0.66025317,  0.61929721,  0.30190226],\n",
       "       [ 0.69249117,  0.61670583,  0.02755371],\n",
       "       [ 0.67782938,  0.60970771,  0.31225529],\n",
       "       [ 0.67184049,  0.70478034, -0.04820619],\n",
       "       [ 0.66149855,  0.6817075 ,  0.26957747]])"
      ]
     },
     "execution_count": 59,
     "metadata": {},
     "output_type": "execute_result"
    }
   ],
   "source": [
    "data[0]"
   ]
  },
  {
   "cell_type": "markdown",
   "metadata": {},
   "source": [
    "# 검증"
   ]
  },
  {
   "cell_type": "code",
   "execution_count": 341,
   "metadata": {},
   "outputs": [],
   "source": [
    "import os\n",
    "import numpy as np\n",
    "npy_directory = \"./npy/test\"\n",
    "npy_test_files = [np.load(os.path.join(npy_directory, f)) for f in os.listdir(npy_directory) if f.endswith(\".npy\")]"
   ]
  },
  {
   "cell_type": "code",
   "execution_count": 342,
   "metadata": {},
   "outputs": [],
   "source": [
    "test_data = np.array(npy_test_files)"
   ]
  },
  {
   "cell_type": "code",
   "execution_count": 343,
   "metadata": {},
   "outputs": [
    {
     "data": {
      "text/plain": [
       "((27, 33, 3),\n",
       " array([[[0.02382346, 0.33805234, 0.37176816],\n",
       "         [0.01085422, 0.28585247, 0.34725466],\n",
       "         [0.01256986, 0.28003405, 0.34705766],\n",
       "         ...,\n",
       "         [0.7692652 , 0.60204187, 0.82673345],\n",
       "         [0.97512433, 0.88697774, 0.52017044],\n",
       "         [0.74671069, 0.68785262, 0.80620445]],\n",
       " \n",
       "        [[0.09387954, 0.21523206, 0.28805967],\n",
       "         [0.07354047, 0.17777931, 0.2577014 ],\n",
       "         [0.0743166 , 0.17010073, 0.25742259],\n",
       "         ...,\n",
       "         [0.39333539, 0.78269015, 0.99732735],\n",
       "         [0.92875983, 0.86117755, 0.57040386],\n",
       "         [0.30853964, 0.87651571, 0.96247289]],\n",
       " \n",
       "        [[0.04054306, 0.68428057, 0.38150037],\n",
       "         [0.01994331, 0.64830788, 0.35594218],\n",
       "         [0.02046324, 0.64105117, 0.35574831],\n",
       "         ...,\n",
       "         [0.94223681, 0.57569732, 0.74825819],\n",
       "         [0.96111346, 0.84882156, 0.56691571],\n",
       "         [0.93405267, 0.80648822, 0.71686201]],\n",
       " \n",
       "        ...,\n",
       " \n",
       "        [[0.06147506, 0.78865568, 0.42786244],\n",
       "         [0.0366824 , 0.75353424, 0.40697298],\n",
       "         [0.03649599, 0.74442276, 0.406739  ],\n",
       "         ...,\n",
       "         [0.9733539 , 0.57742962, 0.69454523],\n",
       "         [0.9536862 , 0.87702346, 0.45224414],\n",
       "         [0.93048005, 0.82786043, 0.65271787]],\n",
       " \n",
       "        [[0.04782771, 0.40859016, 0.36942225],\n",
       "         [0.02855898, 0.3677404 , 0.34146081],\n",
       "         [0.0290749 , 0.36162634, 0.34122972],\n",
       "         ...,\n",
       "         [0.43175156, 0.6857374 , 0.89172821],\n",
       "         [0.95125387, 0.88079517, 0.47757822],\n",
       "         [0.38117773, 0.76628183, 0.87777122]],\n",
       " \n",
       "        [[0.04095696, 0.73924207, 0.41372477],\n",
       "         [0.02094916, 0.70129753, 0.39193399],\n",
       "         [0.02147021, 0.69339628, 0.3917268 ],\n",
       "         ...,\n",
       "         [0.95841852, 0.57879471, 0.68295146],\n",
       "         [0.96019825, 0.86229675, 0.47225617],\n",
       "         [0.93363429, 0.80784041, 0.6398544 ]]]))"
      ]
     },
     "execution_count": 343,
     "metadata": {},
     "output_type": "execute_result"
    }
   ],
   "source": [
    "all_test_data = np.concatenate(test_data, axis=0)\n",
    "\n",
    "# Min-Max 스케일러 생성\n",
    "# scaler = MinMaxScaler()\n",
    "\n",
    "# 데이터 스케일링\n",
    "scaled_test_data = scaler.fit_transform(all_test_data)\n",
    "scaled_test_data = scaled_test_data.reshape(test_data.shape)\n",
    "scaled_test_data.shape, scaled_test_data"
   ]
  },
  {
   "cell_type": "code",
   "execution_count": 344,
   "metadata": {},
   "outputs": [],
   "source": [
    "# 라벨링되지 않은 데이터 생성\n",
    "X_unlabeled = np.array([d.reshape(-1) for d in scaled_test_data])"
   ]
  },
  {
   "cell_type": "code",
   "execution_count": 345,
   "metadata": {},
   "outputs": [
    {
     "data": {
      "text/plain": [
       "array([[ 0.4106245 ,  0.5587402 , -0.07398704],\n",
       "       [ 0.40580583,  0.54547966, -0.09556527],\n",
       "       [ 0.40644327,  0.54400158, -0.09573868],\n",
       "       [ 0.40724611,  0.54250795, -0.09572675],\n",
       "       [ 0.40567422,  0.54516608, -0.06626625],\n",
       "       [ 0.4061977 ,  0.54366237, -0.06646357],\n",
       "       [ 0.40690726,  0.54179782, -0.06654475],\n",
       "       [ 0.41533864,  0.52798378, -0.14975601],\n",
       "       [ 0.41547507,  0.52626008, -0.0175528 ],\n",
       "       [ 0.420412  ,  0.55840081, -0.08818781],\n",
       "       [ 0.42075509,  0.55771703, -0.05122504],\n",
       "       [ 0.46343842,  0.53675735, -0.1937352 ],\n",
       "       [ 0.46998572,  0.50494385,  0.08599366],\n",
       "       [ 0.51605612,  0.62853664, -0.19237109],\n",
       "       [ 0.51421171,  0.5826236 ,  0.13298838],\n",
       "       [ 0.49547911,  0.70864618, -0.1086263 ],\n",
       "       [ 0.50226641,  0.65375614,  0.07203507],\n",
       "       [ 0.48255184,  0.71630186, -0.12207928],\n",
       "       [ 0.48861319,  0.65657842,  0.06786187],\n",
       "       [ 0.47957745,  0.71029097, -0.11072805],\n",
       "       [ 0.48671287,  0.65958232,  0.05091331],\n",
       "       [ 0.48426342,  0.70758671, -0.10038674],\n",
       "       [ 0.49032971,  0.66022354,  0.06129647],\n",
       "       [ 0.58210343,  0.57987595, -0.07734965],\n",
       "       [ 0.58280456,  0.5567838 ,  0.07729173],\n",
       "       [ 0.6696167 ,  0.62870824, -0.01582711],\n",
       "       [ 0.6452263 ,  0.61921757,  0.17354737],\n",
       "       [ 0.74367023,  0.63683629,  0.09741517],\n",
       "       [ 0.67874283,  0.62798375,  0.31225377],\n",
       "       [ 0.75122958,  0.62558496,  0.10706732],\n",
       "       [ 0.68759096,  0.62580252,  0.32650033],\n",
       "       [ 0.76407725,  0.69818592,  0.05664543],\n",
       "       [ 0.6792109 ,  0.64760137,  0.30842948]])"
      ]
     },
     "execution_count": 345,
     "metadata": {},
     "output_type": "execute_result"
    }
   ],
   "source": [
    "npy_test_files[0]"
   ]
  },
  {
   "cell_type": "code",
   "execution_count": 346,
   "metadata": {},
   "outputs": [
    {
     "data": {
      "text/plain": [
       "[array([ 0.4106245 ,  0.5587402 , -0.07398704,  0.40580583,  0.54547966,\n",
       "        -0.09556527,  0.40644327,  0.54400158, -0.09573868,  0.40724611,\n",
       "         0.54250795, -0.09572675,  0.40567422,  0.54516608, -0.06626625,\n",
       "         0.4061977 ,  0.54366237, -0.06646357,  0.40690726,  0.54179782,\n",
       "        -0.06654475,  0.41533864,  0.52798378, -0.14975601,  0.41547507,\n",
       "         0.52626008, -0.0175528 ,  0.420412  ,  0.55840081, -0.08818781,\n",
       "         0.42075509,  0.55771703, -0.05122504,  0.46343842,  0.53675735,\n",
       "        -0.1937352 ,  0.46998572,  0.50494385,  0.08599366,  0.51605612,\n",
       "         0.62853664, -0.19237109,  0.51421171,  0.5826236 ,  0.13298838,\n",
       "         0.49547911,  0.70864618, -0.1086263 ,  0.50226641,  0.65375614,\n",
       "         0.07203507,  0.48255184,  0.71630186, -0.12207928,  0.48861319,\n",
       "         0.65657842,  0.06786187,  0.47957745,  0.71029097, -0.11072805,\n",
       "         0.48671287,  0.65958232,  0.05091331,  0.48426342,  0.70758671,\n",
       "        -0.10038674,  0.49032971,  0.66022354,  0.06129647,  0.58210343,\n",
       "         0.57987595, -0.07734965,  0.58280456,  0.5567838 ,  0.07729173,\n",
       "         0.6696167 ,  0.62870824, -0.01582711,  0.6452263 ,  0.61921757,\n",
       "         0.17354737,  0.74367023,  0.63683629,  0.09741517,  0.67874283,\n",
       "         0.62798375,  0.31225377,  0.75122958,  0.62558496,  0.10706732,\n",
       "         0.68759096,  0.62580252,  0.32650033,  0.76407725,  0.69818592,\n",
       "         0.05664543,  0.6792109 ,  0.64760137,  0.30842948]),\n",
       " array([ 0.43665361,  0.52753967, -0.14767221,  0.4290967 ,  0.5180254 ,\n",
       "        -0.17439535,  0.42938507,  0.51607478, -0.17464077,  0.42970458,\n",
       "         0.51416981, -0.17456059,  0.42857462,  0.51748121, -0.1386967 ,\n",
       "         0.42862815,  0.51538861, -0.13895211,  0.42871073,  0.51317275,\n",
       "        -0.13901857,  0.43416563,  0.49579877, -0.23546693,  0.43357319,\n",
       "         0.49545655, -0.07253411,  0.44556969,  0.52272201, -0.16297279,\n",
       "         0.44535017,  0.52244836, -0.11725138,  0.48026621,  0.49680755,\n",
       "        -0.30118898,  0.48150402,  0.47492462,  0.06926914,  0.50819182,\n",
       "         0.6029731 , -0.36496553,  0.50676697,  0.56563878,  0.12393504,\n",
       "         0.50017846,  0.70251423, -0.35840037,  0.50234628,  0.65026319,\n",
       "         0.02642803,  0.48632953,  0.71593821, -0.40123937,  0.48957452,\n",
       "         0.65656543,  0.01623326,  0.48287654,  0.71040213, -0.38684231,\n",
       "         0.48769575,  0.65990317, -0.01438195,  0.48851439,  0.70617127,\n",
       "        -0.35211572,  0.49285311,  0.66068161,  0.00886751,  0.60017252,\n",
       "         0.49663326, -0.10508135,  0.58575833,  0.48839709,  0.10494018,\n",
       "         0.67382658,  0.57748187,  0.04834905,  0.523651  ,  0.54555076,\n",
       "         0.26009482,  0.74685758,  0.62952036,  0.18723385,  0.53984159,\n",
       "         0.65573192,  0.45793399,  0.76243591,  0.62573206,  0.19635636,\n",
       "         0.54791546,  0.67169333,  0.47666717,  0.74685067,  0.69163179,\n",
       "         0.10086385,  0.51640987,  0.69552821,  0.44598621]),\n",
       " array([ 0.41683662,  0.64669394, -0.06542017,  0.40918285,  0.63755566,\n",
       "        -0.087918  ,  0.40937603,  0.63571221, -0.08808866,  0.40960521,\n",
       "         0.63424093, -0.08806225,  0.40853196,  0.63633919, -0.060592  ,\n",
       "         0.40841097,  0.63378346, -0.06079133,  0.40835494,  0.63142091,\n",
       "        -0.06084875,  0.41532487,  0.61580217, -0.14502102,  0.41440412,\n",
       "         0.61298823, -0.02242843,  0.42448539,  0.64139044, -0.08029701,\n",
       "         0.42485821,  0.6396085 , -0.04614316,  0.46207666,  0.60551494,\n",
       "        -0.18476175,  0.45817003,  0.56653434,  0.0723596 ,  0.52709454,\n",
       "         0.6485939 , -0.15034199,  0.51935667,  0.59312874,  0.06639937,\n",
       "         0.49649793,  0.71190292, -0.02729237,  0.49735212,  0.65645987,\n",
       "        -0.05768834,  0.48283929,  0.71966207, -0.02958175,  0.48670083,\n",
       "         0.66051418, -0.07426304,  0.48113638,  0.70908487, -0.02695283,\n",
       "         0.48438698,  0.66331941, -0.08466623,  0.48507267,  0.7056371 ,\n",
       "        -0.02085589,  0.48890522,  0.66404802, -0.06798121,  0.58319116,\n",
       "         0.61774462, -0.07918237,  0.58044654,  0.59161633,  0.07916491,\n",
       "         0.66906029,  0.64310688,  0.03267779,  0.65979362,  0.62702179,\n",
       "         0.17097956,  0.74695426,  0.63718796,  0.13347937,  0.73724496,\n",
       "         0.62872905,  0.25133044,  0.76247871,  0.6248582 ,  0.14018148,\n",
       "         0.751858  ,  0.61911011,  0.25742176,  0.75887156,  0.68849295,\n",
       "         0.09779338,  0.74881721,  0.67773885,  0.22978498]),\n",
       " array([ 0.42098507,  0.68118656, -0.05436557,  0.4122844 ,  0.67106652,\n",
       "        -0.07288717,  0.41230276,  0.66894084, -0.07309031,  0.41227844,\n",
       "         0.66700679, -0.07303243,  0.41215816,  0.67154527, -0.0450933 ,\n",
       "         0.41206336,  0.66947311, -0.04531716,  0.41200042,  0.66729736,\n",
       "        -0.04540737,  0.41652548,  0.6501714 , -0.11417492,  0.41622737,\n",
       "         0.65036106,  0.01045364,  0.42932087,  0.67424685, -0.06387827,\n",
       "         0.42934358,  0.67413926, -0.02941009,  0.46241978,  0.63131338,\n",
       "        -0.16045235,  0.46189919,  0.59816778,  0.10514543,  0.52924317,\n",
       "         0.64821857, -0.1419623 ,  0.52719581,  0.60854948,  0.04150502,\n",
       "         0.49657887,  0.70558816, -0.03065369,  0.49557218,  0.66580415,\n",
       "        -0.15652783,  0.48312742,  0.7136969 , -0.03299075,  0.48367125,\n",
       "         0.6746707 , -0.18558411,  0.48029706,  0.70752907, -0.03329059,\n",
       "         0.48272943,  0.67588204, -0.19252984,  0.48454306,  0.70514476,\n",
       "        -0.02503049,  0.48665524,  0.67741477, -0.16790111,  0.58418584,\n",
       "         0.63603175, -0.08603959,  0.5826593 ,  0.61115605,  0.08606361,\n",
       "         0.67494702,  0.65439349, -0.0017339 ,  0.66679686,  0.63196015,\n",
       "         0.13787788,  0.75392246,  0.63923764,  0.06310839,  0.7421056 ,\n",
       "         0.62459028,  0.2222793 ,  0.77061635,  0.62690479,  0.064962  ,\n",
       "         0.75669092,  0.61535728,  0.22819343,  0.75437903,  0.69551116,\n",
       "         0.0038038 ,  0.74684101,  0.67621976,  0.19487485]),\n",
       " array([ 0.4301661 ,  0.55181843, -0.14396603,  0.42316279,  0.54268402,\n",
       "        -0.17018229,  0.42353702,  0.54086483, -0.17041428,  0.42393124,\n",
       "         0.5393008 , -0.17035374,  0.42261809,  0.5424996 , -0.13494909,\n",
       "         0.42274019,  0.54068178, -0.13516854,  0.42289239,  0.53884429,\n",
       "        -0.13519734,  0.4291048 ,  0.52241689, -0.23187669,  0.42871523,\n",
       "         0.52168554, -0.07099755,  0.43828768,  0.54703325, -0.15980457,\n",
       "         0.43793914,  0.54637468, -0.11460443,  0.47288817,  0.52755946,\n",
       "        -0.29396161,  0.47818094,  0.49251935,  0.07010253,  0.51630193,\n",
       "         0.61786789, -0.34590825,  0.51328754,  0.57536155,  0.13419572,\n",
       "         0.4983938 ,  0.70628333, -0.32217667,  0.50422412,  0.64949769,\n",
       "         0.05268708,  0.48424986,  0.71492183, -0.35790107,  0.48977417,\n",
       "         0.65522921,  0.04631669,  0.48156902,  0.70520949, -0.3443501 ,\n",
       "         0.4880065 ,  0.65928948,  0.01955518,  0.48667917,  0.70279062,\n",
       "        -0.31529692,  0.49320626,  0.66012537,  0.03729826,  0.59012139,\n",
       "         0.53192878, -0.10569271,  0.5818876 ,  0.50365704,  0.10554101,\n",
       "         0.67370105,  0.5924145 ,  0.02331104,  0.53133851,  0.5662663 ,\n",
       "         0.28343225,  0.75121105,  0.63322556,  0.12589942,  0.55102909,\n",
       "         0.65353262,  0.46223623,  0.76594669,  0.63038468,  0.13208047,\n",
       "         0.54987025,  0.67536956,  0.47901979,  0.7476806 ,  0.69735092,\n",
       "         0.0419798 ,  0.52375156,  0.69441009,  0.45563838]),\n",
       " array([ 0.40765214,  0.62665045, -0.07192977,  0.40212265,  0.61449409,\n",
       "        -0.09445908,  0.40276569,  0.61254841, -0.09463234,  0.40341422,\n",
       "         0.61094362, -0.09460308,  0.40177298,  0.61420125, -0.06779556,\n",
       "         0.40227532,  0.61207598, -0.0679948 ,  0.40278327,  0.61003083,\n",
       "        -0.06805011,  0.41108847,  0.5969035 , -0.15230811,  0.41050652,\n",
       "         0.5945729 , -0.03263397,  0.41639501,  0.62436062, -0.08708383,\n",
       "         0.41655123,  0.6234892 , -0.05383579,  0.45847738,  0.59870094,\n",
       "        -0.19295314,  0.45789307,  0.56551653,  0.06770381,  0.52447844,\n",
       "         0.64522809, -0.16022557,  0.51598018,  0.59492373,  0.09372603,\n",
       "         0.4954282 ,  0.7135883 , -0.03979046,  0.49671528,  0.65547001,\n",
       "         0.01257627,  0.48369578,  0.72002357, -0.04244219,  0.48645571,\n",
       "         0.65835536,  0.00382918,  0.48092166,  0.71067369, -0.03891791,\n",
       "         0.48440868,  0.66108483, -0.00809513,  0.48501024,  0.70776772,\n",
       "        -0.03310564,  0.48790711,  0.66143876,  0.00303885,  0.58058912,\n",
       "         0.62237072, -0.08015812,  0.57942212,  0.59403795,  0.08015201,\n",
       "         0.6679666 ,  0.64605421,  0.02768656,  0.65880769,  0.62686324,\n",
       "         0.18208897,  0.7499274 ,  0.63799274,  0.12075794,  0.73680443,\n",
       "         0.62728626,  0.25995314,  0.76381624,  0.62516004,  0.12666932,\n",
       "         0.7546773 ,  0.61709541,  0.26587573,  0.75932449,  0.69105703,\n",
       "         0.07931493,  0.74245989,  0.67554551,  0.23633304]),\n",
       " array([ 0.43563622,  0.52890301, -0.12847322,  0.42798871,  0.51969916,\n",
       "        -0.15470825,  0.42819065,  0.51792336, -0.15493456,  0.42843527,\n",
       "         0.51638162, -0.15485831,  0.4276498 ,  0.51892102, -0.11978853,\n",
       "         0.42769718,  0.51673824, -0.12005164,  0.42774272,  0.51455432,\n",
       "        -0.12012567,  0.43257004,  0.49789172, -0.21700823,  0.43193805,\n",
       "         0.49637085, -0.05843434,  0.44452813,  0.52410823, -0.14436689,\n",
       "         0.44439209,  0.52371258, -0.09986458,  0.47874686,  0.49625823,\n",
       "        -0.28222817,  0.48224995,  0.47286341,  0.07208648,  0.50862694,\n",
       "         0.60246933, -0.34033364,  0.50798953,  0.56445634,  0.11578462,\n",
       "         0.49929321,  0.70469707, -0.32765263,  0.50247538,  0.64973032,\n",
       "         0.0079007 ,  0.48482743,  0.71794111, -0.36665171,  0.48819864,\n",
       "         0.6547339 , -0.00384715,  0.48151413,  0.71135074, -0.35201806,\n",
       "         0.48656949,  0.65778351, -0.03193226,  0.48736486,  0.70743543,\n",
       "        -0.32088557,  0.49235255,  0.6592145 , -0.0088464 ,  0.60170758,\n",
       "         0.49764442, -0.10138628,  0.59253645,  0.48300913,  0.10125228,\n",
       "         0.67401135,  0.57966602,  0.07749206,  0.57990944,  0.55343843,\n",
       "         0.26565954,  0.74599004,  0.63012725,  0.21756864,  0.5689885 ,\n",
       "         0.65100801,  0.45606142,  0.76205671,  0.62487727,  0.22719291,\n",
       "         0.57829338,  0.66326243,  0.47472593,  0.74780047,  0.69598877,\n",
       "         0.14151634,  0.53625053,  0.69105339,  0.44728598]),\n",
       " array([ 0.41533369,  0.56302482, -0.0940169 ,  0.40940517,  0.55342716,\n",
       "        -0.11818671,  0.40966269,  0.55131668, -0.11836918,  0.40989572,\n",
       "         0.54916525, -0.11831335,  0.40906876,  0.55326968, -0.08716565,\n",
       "         0.40911984,  0.55118078, -0.08737476,  0.40911913,  0.54877794,\n",
       "        -0.08741919,  0.41447243,  0.53156787, -0.1776268 ,  0.4142611 ,\n",
       "         0.53048402, -0.03602288,  0.42388815,  0.55667174, -0.10879102,\n",
       "         0.42399743,  0.55638713, -0.06921866,  0.46216196,  0.53218341,\n",
       "        -0.22600001,  0.4665758 ,  0.50156152,  0.07978585,  0.51101112,\n",
       "         0.62163299, -0.23687136,  0.50639212,  0.58332688,  0.13402937,\n",
       "         0.49720487,  0.70975208, -0.16951618,  0.50091392,  0.65590274,\n",
       "         0.07435203,  0.48345616,  0.71930015, -0.18952563,  0.48742002,\n",
       "         0.65821576,  0.0702659 ,  0.48034394,  0.71262228, -0.1798985 ,\n",
       "         0.48566645,  0.66156185,  0.05252219,  0.48586741,  0.70829439,\n",
       "        -0.16248393,  0.48972827,  0.66310239,  0.06352367,  0.58422691,\n",
       "         0.5698787 , -0.09112085,  0.57819498,  0.54479986,  0.09101119,\n",
       "         0.66584265,  0.62115788, -0.02657366,  0.54496914,  0.58580303,\n",
       "         0.25484696,  0.74878788,  0.63776839,  0.08595692,  0.53527933,\n",
       "         0.62370479,  0.40455768,  0.75858665,  0.62436104,  0.09542969,\n",
       "         0.54412609,  0.62895346,  0.41971493,  0.75046182,  0.69597131,\n",
       "         0.03328745,  0.50327212,  0.64179665,  0.41865996]),\n",
       " array([ 0.41816318,  0.5859555 , -0.03080913,  0.4114393 ,  0.5757975 ,\n",
       "        -0.05465322,  0.41175482,  0.57382733, -0.0547987 ,  0.4121128 ,\n",
       "         0.57220691, -0.05476288,  0.4110359 ,  0.57543862, -0.02672811,\n",
       "         0.41116601,  0.57333082, -0.02692253,  0.41130739,  0.57128626,\n",
       "        -0.02697207,  0.4171041 ,  0.55605316, -0.11944767,  0.41679558,\n",
       "         0.55386221,  0.0067529 ,  0.42673227,  0.57997203, -0.04788254,\n",
       "         0.42661816,  0.57952321, -0.01278593,  0.4630118 ,  0.56682146,\n",
       "        -0.17433032,  0.463595  ,  0.51904762,  0.11585432,  0.52170891,\n",
       "         0.63565826, -0.16131158,  0.51843327,  0.58293939,  0.2064133 ,\n",
       "         0.49657077,  0.7136544 , -0.04335923,  0.50160491,  0.65282631,\n",
       "         0.20596382,  0.48239046,  0.71982318, -0.04808261,  0.48853022,\n",
       "         0.65689278,  0.21219857,  0.47978383,  0.71076524, -0.03907008,\n",
       "         0.48610488,  0.6607939 ,  0.19778463,  0.48444164,  0.70802045,\n",
       "        -0.03467019,  0.49136895,  0.66117591,  0.1976676 ,  0.58291775,\n",
       "         0.59151906, -0.0867494 ,  0.58246744,  0.56647098,  0.08675099,\n",
       "         0.66866189,  0.63384521, -0.02027728,  0.66027212,  0.62028062,\n",
       "         0.15976569,  0.75131083,  0.63801789,  0.06486619,  0.74084091,\n",
       "         0.63141733,  0.24857239,  0.76032972,  0.62652689,  0.07076483,\n",
       "         0.75599468,  0.62248015,  0.25599292,  0.75375664,  0.69250792,\n",
       "         0.02627894,  0.7489115 ,  0.68215573,  0.22945252]),\n",
       " array([ 0.41633579,  0.64760029, -0.05148818,  0.40862072,  0.63952082,\n",
       "        -0.07249348,  0.40888435,  0.63731766, -0.0726903 ,  0.40923166,\n",
       "         0.6355297 , -0.07264572,  0.40819919,  0.63889813, -0.04288574,\n",
       "         0.40821427,  0.63640356, -0.04310026,  0.40822807,  0.63413066,\n",
       "        -0.04317693,  0.41475406,  0.61819041, -0.12425838,  0.41410899,\n",
       "         0.6160844 ,  0.00835083,  0.42496401,  0.64374876, -0.06469532,\n",
       "         0.4251532 ,  0.6430217 , -0.02780566,  0.46150541,  0.60172313,\n",
       "        -0.17377137,  0.46055087,  0.57312256,  0.10802393,  0.52719903,\n",
       "         0.64643812, -0.15408704,  0.52102453,  0.59421545,  0.05841662,\n",
       "         0.49883717,  0.71865189, -0.04152292,  0.49715596,  0.66695487,\n",
       "        -0.13612735,  0.48420417,  0.72689742, -0.04660577,  0.48537871,\n",
       "         0.67334551, -0.16338412,  0.48075628,  0.7174744 , -0.04518223,\n",
       "         0.48292458,  0.67348403, -0.17244494,  0.48641294,  0.71542376,\n",
       "        -0.03539031,  0.48755538,  0.67283905, -0.14817801,  0.58364779,\n",
       "         0.60795438, -0.0895769 ,  0.58012855,  0.58919257,  0.08958135,\n",
       "         0.67062092,  0.641931  ,  0.00482679,  0.66047251,  0.62450987,\n",
       "         0.16599214,  0.75035059,  0.63491648,  0.08013938,  0.73828971,\n",
       "         0.62480569,  0.25695255,  0.76826483,  0.62518269,  0.08304132,\n",
       "         0.75731385,  0.61910093,  0.26334557,  0.75046003,  0.70145297,\n",
       "         0.02156929,  0.74129283,  0.68191081,  0.22864828]),\n",
       " array([ 0.42891622,  0.52657825, -0.06875348,  0.42159623,  0.51747352,\n",
       "        -0.09283251,  0.42170629,  0.51576644, -0.09302194,  0.42179537,\n",
       "         0.51450312, -0.09296877,  0.42109144,  0.517003  , -0.06034062,\n",
       "         0.42096287,  0.51502424, -0.06054861,  0.42079699,  0.51322627,\n",
       "        -0.06060679,  0.425156  ,  0.49785602, -0.15378961,  0.42444158,\n",
       "         0.49613985, -0.0066325 ,  0.43729138,  0.52179283, -0.08432164,\n",
       "         0.43677285,  0.5215286 , -0.04321985,  0.47036409,  0.504403  ,\n",
       "        -0.2248567 ,  0.47596037,  0.47942561,  0.122081  ,  0.50633591,\n",
       "         0.60967624, -0.24503367,  0.50341862,  0.57009482,  0.14511321,\n",
       "         0.49854988,  0.70589596, -0.18159415,  0.50291449,  0.65165544,\n",
       "         0.0181383 ,  0.4840484 ,  0.71657956, -0.20740925,  0.48886716,\n",
       "         0.6577208 ,  0.00527042,  0.48050278,  0.70861268, -0.19496316,\n",
       "         0.48664171,  0.66182816, -0.01778437,  0.48682159,  0.70609605,\n",
       "        -0.17345522,  0.49273014,  0.66295332,  0.00277442,  0.58842349,\n",
       "         0.54453015, -0.10384811,  0.58592969,  0.52786392,  0.10378374,\n",
       "         0.66704798,  0.60925335,  0.01223489,  0.65319294,  0.59058791,\n",
       "         0.23728433,  0.75130773,  0.63189322,  0.12296554,  0.73451662,\n",
       "         0.61964577,  0.39306951,  0.76782811,  0.62661576,  0.1296874 ,\n",
       "         0.75204325,  0.61424094,  0.40684381,  0.7543245 ,  0.69784796,\n",
       "         0.06303761,  0.72143203,  0.67069137,  0.37305722]),\n",
       " array([ 0.42553449,  0.66724867, -0.05748473,  0.41584048,  0.65955335,\n",
       "        -0.07674459,  0.4157905 ,  0.6572566 , -0.07696368,  0.41575369,\n",
       "         0.65512311, -0.07689501,  0.41572142,  0.65973073, -0.04869098,\n",
       "         0.41569948,  0.65757143, -0.04892323,  0.41565961,  0.65547764,\n",
       "        -0.04900821,  0.42047071,  0.63654608, -0.11878996,  0.41994059,\n",
       "         0.63699317,  0.00652271,  0.43371403,  0.6612376 , -0.0668655 ,\n",
       "         0.43382752,  0.66083461, -0.03225014,  0.46475774,  0.62706763,\n",
       "        -0.16689867,  0.46360716,  0.58824503,  0.10615942,  0.53349072,\n",
       "         0.64645547, -0.14156871,  0.5216338 ,  0.60502023,  0.0413751 ,\n",
       "         0.49849051,  0.70750833, -0.0253433 ,  0.50169575,  0.66202581,\n",
       "        -0.17090891,  0.48625386,  0.71622735, -0.02978965,  0.4988271 ,\n",
       "         0.6763885 , -0.20197576,  0.48267192,  0.70844418, -0.03017153,\n",
       "         0.49235025,  0.67290819, -0.211566  ,  0.48673582,  0.70551425,\n",
       "        -0.01967893,  0.49427155,  0.6747607 , -0.18361853,  0.58905172,\n",
       "         0.63111591, -0.08886022,  0.58482075,  0.60498607,  0.088838  ,\n",
       "         0.67585385,  0.65137166,  0.01464726,  0.66677177,  0.6243031 ,\n",
       "         0.17342836,  0.75495148,  0.63845646,  0.09541147,  0.73902678,\n",
       "         0.62366706,  0.27998006,  0.77022958,  0.62499386,  0.09879191,\n",
       "         0.75622535,  0.61369443,  0.28796348,  0.75290138,  0.69182545,\n",
       "         0.03631463,  0.73969275,  0.67660004,  0.25398704]),\n",
       " array([ 0.42137104,  0.52758056, -0.06386951,  0.41469064,  0.51609564,\n",
       "        -0.08658164,  0.41510025,  0.51409191, -0.08674975,  0.41543931,\n",
       "         0.51224828, -0.08670623,  0.41430515,  0.51587307, -0.05608682,\n",
       "         0.41455615,  0.51383215, -0.05628633,  0.41478121,  0.51165634,\n",
       "        -0.05635043,  0.42031032,  0.49703422, -0.14230695,  0.4199816 ,\n",
       "         0.49574268, -0.00416176,  0.43018001,  0.52322215, -0.07759044,\n",
       "         0.43013224,  0.52292091, -0.03905373,  0.46783057,  0.50375706,\n",
       "        -0.20332536,  0.47304699,  0.47836894,  0.11810347,  0.50366068,\n",
       "         0.6057241 , -0.21674338,  0.50248009,  0.56906724,  0.1494263 ,\n",
       "         0.49747652,  0.70657241, -0.15550449,  0.50242907,  0.65236533,\n",
       "         0.04641283,  0.48245609,  0.71809024, -0.17913221,  0.48985031,\n",
       "         0.65440667,  0.036684  ,  0.47987852,  0.71166289, -0.16680892,\n",
       "         0.4873431 ,  0.65904498,  0.01450668,  0.4852758 ,  0.7087599 ,\n",
       "        -0.14758538,  0.49236649,  0.66104531,  0.03239338,  0.58276331,\n",
       "         0.55520165, -0.09550168,  0.58146858,  0.53370875,  0.09544515,\n",
       "         0.66606748,  0.61343092, -0.00311759,  0.654365  ,  0.60503286,\n",
       "         0.19574665,  0.74865013,  0.63504195,  0.09813225,  0.72906399,\n",
       "         0.62757409,  0.33535382,  0.76164287,  0.6240564 ,  0.10434125,\n",
       "         0.74991757,  0.61348891,  0.34792519,  0.75145757,  0.69772589,\n",
       "         0.03964785,  0.72902942,  0.67731816,  0.31301028]),\n",
       " array([ 0.41388524,  0.65412104, -0.04889163,  0.40659994,  0.64332396,\n",
       "        -0.06706768,  0.40693229,  0.64122111, -0.06725583,  0.40725729,\n",
       "         0.6395759 , -0.06721307,  0.40628695,  0.64262235, -0.0392379 ,\n",
       "         0.4065434 ,  0.64022577, -0.03944082,  0.40678132,  0.6379025 ,\n",
       "        -0.03951841,  0.41332388,  0.62317622, -0.11055134,  0.41293555,\n",
       "         0.62132567,  0.01412342,  0.42291519,  0.65194434, -0.05963728,\n",
       "         0.42346373,  0.651151  , -0.02510492,  0.45821398,  0.61454177,\n",
       "        -0.16019885,  0.46228331,  0.58457857,  0.10971101,  0.5249781 ,\n",
       "         0.6445815 , -0.14476094,  0.52173251,  0.61547107,  0.04663337,\n",
       "         0.4965679 ,  0.71385765, -0.039635  ,  0.49670458,  0.67730635,\n",
       "        -0.15570034,  0.48412213,  0.72215688, -0.04363128,  0.48589185,\n",
       "         0.68524063, -0.18402757,  0.48021829,  0.71555835, -0.04269257,\n",
       "         0.48403347,  0.68474156, -0.19259433,  0.48463243,  0.71221501,\n",
       "        -0.03380053,  0.48760962,  0.68455929, -0.16779555,  0.5819751 ,\n",
       "         0.63644874, -0.08557818,  0.5811522 ,  0.61020088,  0.08560072,\n",
       "         0.67125982,  0.65285903, -0.0060067 ,  0.66661763,  0.62748027,\n",
       "         0.13354613,  0.7550773 ,  0.63972014,  0.06300954,  0.7453351 ,\n",
       "         0.62637746,  0.19366013,  0.76814049,  0.62722486,  0.06508422,\n",
       "         0.76136965,  0.61760062,  0.19651587,  0.75611246,  0.69493175,\n",
       "         0.00149485,  0.74739337,  0.67563879,  0.15334778]),\n",
       " array([ 4.17480350e-01,  5.26709676e-01, -1.03830606e-01,  4.11334455e-01,\n",
       "         5.15229166e-01, -1.28105834e-01,  4.11697298e-01,  5.13302505e-01,\n",
       "        -1.28301620e-01,  4.12024677e-01,  5.11733592e-01, -1.28261238e-01,\n",
       "         4.11055058e-01,  5.14687121e-01, -9.66316015e-02,  4.11324322e-01,\n",
       "         5.12323320e-01, -9.68564749e-02,  4.11660731e-01,  5.09964764e-01,\n",
       "        -9.69239622e-02,  4.17144835e-01,  4.96591717e-01, -1.85635760e-01,\n",
       "         4.17361856e-01,  4.94391680e-01, -4.23169024e-02,  4.27504838e-01,\n",
       "         5.21905005e-01, -1.17978394e-01,  4.27746475e-01,  5.21540761e-01,\n",
       "        -7.78557286e-02,  4.65321004e-01,  5.06132305e-01, -2.38744214e-01,\n",
       "         4.71104652e-01,  4.78158414e-01,  7.78831244e-02,  4.99667048e-01,\n",
       "         6.09877646e-01, -2.54045218e-01,  4.99938250e-01,  5.69627225e-01,\n",
       "         1.10913098e-01,  4.95726287e-01,  7.06393659e-01, -2.03900874e-01,\n",
       "         5.01974165e-01,  6.52276456e-01,  1.41831422e-02,  4.81737375e-01,\n",
       "         7.16741085e-01, -2.31027126e-01,  4.89872813e-01,  6.52659059e-01,\n",
       "         5.05241053e-03,  4.79948401e-01,  7.08926380e-01, -2.19094113e-01,\n",
       "         4.87459928e-01,  6.56571925e-01, -1.77207831e-02,  4.84645963e-01,\n",
       "         7.06474900e-01, -1.96848512e-01,  4.91699070e-01,  6.58999145e-01,\n",
       "         4.30947577e-04,  5.81295073e-01,  5.60538888e-01, -9.29750949e-02,\n",
       "         5.78581572e-01,  5.31258225e-01,  9.28685740e-02,  6.65269792e-01,\n",
       "         6.12358034e-01,  6.91716617e-04,  5.68174303e-01,  5.80377400e-01,\n",
       "         2.52071470e-01,  7.44395554e-01,  6.37866497e-01,  1.23178922e-01,\n",
       "         5.67560673e-01,  6.20887041e-01,  4.28382993e-01,  7.57301331e-01,\n",
       "         6.24535620e-01,  1.33016661e-01,  5.75459659e-01,  6.26489520e-01,\n",
       "         4.46467072e-01,  7.55585790e-01,  6.97430253e-01,  6.74095973e-02,\n",
       "         5.42311370e-01,  6.38142884e-01,  4.38542694e-01]),\n",
       " array([ 4.28352177e-01,  6.63391769e-01, -6.11561872e-02,  4.19095159e-01,\n",
       "         6.52405739e-01, -8.37960914e-02,  4.19137865e-01,  6.50241315e-01,\n",
       "        -8.40218142e-02,  4.19307113e-01,  6.48577809e-01, -8.39607641e-02,\n",
       "         4.18677479e-01,  6.52613878e-01, -5.32621033e-02,  4.18525398e-01,\n",
       "         6.50746465e-01, -5.35105728e-02,  4.18434620e-01,  6.48940742e-01,\n",
       "        -5.35935201e-02,  4.23359096e-01,  6.30061984e-01, -1.37260646e-01,\n",
       "         4.22592342e-01,  6.29651666e-01, -4.89139406e-04,  4.36857134e-01,\n",
       "         6.57025337e-01, -7.43114650e-02,  4.36956227e-01,  6.57079101e-01,\n",
       "        -3.62754725e-02,  4.67988610e-01,  6.21497393e-01, -1.91239759e-01,\n",
       "         4.66519028e-01,  5.82925498e-01,  1.03746973e-01,  5.34884393e-01,\n",
       "         6.55169666e-01, -1.57568946e-01,  5.31675100e-01,  6.02302372e-01,\n",
       "         5.46711497e-02,  4.98186737e-01,  7.11636662e-01, -2.11420134e-02,\n",
       "         5.01099288e-01,  6.68632984e-01, -1.47214681e-01,  4.86290723e-01,\n",
       "         7.20892608e-01, -2.56844610e-02,  4.91475821e-01,  6.79166615e-01,\n",
       "        -1.76741391e-01,  4.81935292e-01,  7.14251995e-01, -2.56301127e-02,\n",
       "         4.88149345e-01,  6.77476406e-01, -1.87296152e-01,  4.87074107e-01,\n",
       "         7.10526109e-01, -1.51218232e-02,  4.92712885e-01,  6.77240133e-01,\n",
       "        -1.60321340e-01,  5.99149525e-01,  6.12898469e-01, -9.32013988e-02,\n",
       "         5.95369339e-01,  5.93387842e-01,  9.31578726e-02,  6.77059591e-01,\n",
       "         6.43769205e-01,  5.46121784e-02,  6.63968682e-01,  6.29135549e-01,\n",
       "         2.09428757e-01,  7.57507801e-01,  6.36490464e-01,  1.86058804e-01,\n",
       "         7.41685748e-01,  6.23280644e-01,  3.43128026e-01,  7.73319721e-01,\n",
       "         6.29408956e-01,  1.95161641e-01,  7.57685304e-01,  6.17761433e-01,\n",
       "         3.54602069e-01,  7.54228413e-01,  6.94746733e-01,  1.44573957e-01,\n",
       "         7.46376336e-01,  6.85143232e-01,  3.27869475e-01]),\n",
       " array([ 4.21636611e-01,  5.35811484e-01, -1.03645578e-01,  4.15192693e-01,\n",
       "         5.24748862e-01, -1.27804458e-01,  4.15525019e-01,  5.23034036e-01,\n",
       "        -1.28007382e-01,  4.15857881e-01,  5.21656454e-01, -1.27958328e-01,\n",
       "         4.14573431e-01,  5.24017215e-01, -9.59372669e-02,  4.14654285e-01,\n",
       "         5.22013068e-01, -9.61567014e-02,  4.14809525e-01,  5.20181715e-01,\n",
       "        -9.62077603e-02,  4.20557201e-01,  5.06178260e-01, -1.85914084e-01,\n",
       "         4.20590818e-01,  5.04561067e-01, -4.05561477e-02,  4.30354714e-01,\n",
       "         5.31683326e-01, -1.18218303e-01,  4.30404454e-01,  5.31156540e-01,\n",
       "        -7.75571913e-02,  4.69767690e-01,  5.17306089e-01, -2.39274457e-01,\n",
       "         4.73100692e-01,  4.85759795e-01,  8.00134093e-02,  5.09476364e-01,\n",
       "         6.16084993e-01, -2.56626368e-01,  5.04978716e-01,  5.70234358e-01,\n",
       "         1.08274378e-01,  4.96014744e-01,  7.07231879e-01, -2.04274818e-01,\n",
       "         5.00953376e-01,  6.53144777e-01,  8.71268194e-03,  4.81364071e-01,\n",
       "         7.17521787e-01, -2.30365381e-01,  4.87626255e-01,  6.53482080e-01,\n",
       "        -7.43252458e-04,  4.78768647e-01,  7.09987521e-01, -2.18741536e-01,\n",
       "         4.85406786e-01,  6.58403397e-01, -2.14843825e-02,  4.83859658e-01,\n",
       "         7.07322598e-01, -1.97192192e-01,  4.90584105e-01,  6.60283327e-01,\n",
       "        -4.46090894e-03,  5.82161367e-01,  5.55211782e-01, -9.35905054e-02,\n",
       "         5.77725053e-01,  5.36014378e-01,  9.34804156e-02,  6.68822289e-01,\n",
       "         6.15711391e-01, -3.74765582e-02,  5.46729803e-01,  5.77303827e-01,\n",
       "         2.48716727e-01,  7.51360714e-01,  6.36611640e-01,  5.69898263e-02,\n",
       "         5.56219578e-01,  6.42269433e-01,  4.09134448e-01,  7.65939355e-01,\n",
       "         6.26047850e-01,  6.36233911e-02,  5.67900002e-01,  6.51483417e-01,\n",
       "         4.24702913e-01,  7.55507410e-01,  6.98626399e-01, -1.00060683e-02,\n",
       "         5.25195479e-01,  6.68345869e-01,  4.13392216e-01]),\n",
       " array([ 4.18597281e-01,  5.23756623e-01, -6.10280931e-02,  4.11991358e-01,\n",
       "         5.11457145e-01, -8.33856985e-02,  4.12736982e-01,  5.09362519e-01,\n",
       "        -8.35468471e-02,  4.13479149e-01,  5.07537067e-01, -8.35063457e-02,\n",
       "         4.11682606e-01,  5.11359036e-01, -5.26822060e-02,  4.12235349e-01,\n",
       "         5.09277463e-01, -5.28818890e-02,  4.12871748e-01,  5.07042408e-01,\n",
       "        -5.29371761e-02,  4.20574158e-01,  4.92537022e-01, -1.38955995e-01,\n",
       "         4.20142472e-01,  4.90887523e-01,  1.21802412e-04,  4.28294837e-01,\n",
       "         5.20037234e-01, -7.49409348e-02,  4.28207934e-01,  5.20062149e-01,\n",
       "        -3.61453965e-02,  4.68133748e-01,  5.03767788e-01, -2.01694474e-01,\n",
       "         4.74852920e-01,  4.79834437e-01,  1.20700300e-01,  5.02857268e-01,\n",
       "         6.09808087e-01, -2.14678913e-01,  5.03463984e-01,  5.70515871e-01,\n",
       "         1.45231292e-01,  4.98439193e-01,  7.05222845e-01, -1.52582958e-01,\n",
       "         5.03472090e-01,  6.56190634e-01,  3.36686634e-02,  4.83193576e-01,\n",
       "         7.17270613e-01, -1.76125318e-01,  4.90722239e-01,  6.56004786e-01,\n",
       "         2.20665783e-02,  4.80712742e-01,  7.10487723e-01, -1.65333658e-01,\n",
       "         4.88394678e-01,  6.60389960e-01, -3.93645867e-04,  4.86753076e-01,\n",
       "         7.07036018e-01, -1.45321116e-01,  4.93596375e-01,  6.63322687e-01,\n",
       "         1.92060322e-02,  5.83202004e-01,  5.56477726e-01, -9.59998220e-02,\n",
       "         5.83680511e-01,  5.34594476e-01,  9.59482193e-02,  6.67080820e-01,\n",
       "         6.14820600e-01,  1.24610472e-03,  6.56713903e-01,  5.93649209e-01,\n",
       "         1.81814134e-01,  7.51038253e-01,  6.37676895e-01,  1.05729029e-01,\n",
       "         7.39176989e-01,  6.24271631e-01,  2.98652679e-01,  7.63198137e-01,\n",
       "         6.29216075e-01,  1.11750640e-01,  7.56787717e-01,  6.21083319e-01,\n",
       "         3.08398992e-01,  7.53961384e-01,  6.99585378e-01,  4.75522354e-02,\n",
       "         7.42853522e-01,  6.79164708e-01,  2.67483264e-01]),\n",
       " array([ 0.41581517,  0.64578134, -0.05216206,  0.40842748,  0.63581598,\n",
       "        -0.07254846,  0.40870798,  0.63381225, -0.07275307,  0.40908355,\n",
       "         0.63187784, -0.07272078,  0.40799761,  0.63538241, -0.04295152,\n",
       "         0.40800512,  0.63310367, -0.04316566,  0.40798444,  0.63077563,\n",
       "        -0.04325299,  0.41460153,  0.61377096, -0.12225874,  0.41291261,\n",
       "         0.613509  ,  0.01035812,  0.42514911,  0.64143431, -0.06484782,\n",
       "         0.42506802,  0.64083797, -0.02802784,  0.45985246,  0.60123658,\n",
       "        -0.17492151,  0.4603129 ,  0.57700467,  0.10991042,  0.52937818,\n",
       "         0.65144032, -0.15929715,  0.52225536,  0.61194462,  0.05126701,\n",
       "         0.49832794,  0.71775055, -0.04949401,  0.49447241,  0.68100709,\n",
       "        -0.15703075,  0.48370379,  0.72591966, -0.05397687,  0.48279768,\n",
       "         0.68733031, -0.18623005,  0.48095506,  0.71960151, -0.05308377,\n",
       "         0.48083094,  0.68747097, -0.19569279,  0.48610997,  0.71695936,\n",
       "        -0.04350162,  0.4856264 ,  0.68625891, -0.1697416 ,  0.58106816,\n",
       "         0.62831211, -0.08959018,  0.57960349,  0.60920423,  0.08961658,\n",
       "         0.67170012,  0.64367598,  0.01178056,  0.66365933,  0.62766874,\n",
       "         0.15522501,  0.75384605,  0.63928622,  0.09521463,  0.74551833,\n",
       "         0.62964016,  0.23241855,  0.76940978,  0.62839156,  0.09888226,\n",
       "         0.76024151,  0.61937332,  0.2372231 ,  0.76010448,  0.69909734,\n",
       "         0.04095202,  0.752177  ,  0.68240017,  0.20010027]),\n",
       " array([ 4.21536982e-01,  5.45578301e-01, -8.05762559e-02,  4.14099514e-01,\n",
       "         5.36095679e-01, -1.03081577e-01,  4.14250821e-01,  5.34296870e-01,\n",
       "        -1.03265345e-01,  4.14402366e-01,  5.32792866e-01, -1.03232592e-01,\n",
       "         4.13621157e-01,  5.35703123e-01, -7.15423971e-02,  4.13516223e-01,\n",
       "         5.33754408e-01, -7.17502013e-02,  4.13456321e-01,  5.31875551e-01,\n",
       "        -7.18241706e-02,  4.18567657e-01,  5.15632272e-01, -1.57355353e-01,\n",
       "         4.18455482e-01,  5.14782310e-01, -1.48592936e-02,  4.29746091e-01,\n",
       "         5.40310681e-01, -9.40064266e-02,  4.29878205e-01,  5.39953232e-01,\n",
       "        -5.42057753e-02,  4.68008965e-01,  5.22335410e-01, -2.15755373e-01,\n",
       "         4.69007045e-01,  4.90146250e-01,  1.07042067e-01,  5.10345936e-01,\n",
       "         6.17225587e-01, -2.21058145e-01,  5.04602492e-01,  5.74547231e-01,\n",
       "         1.24627262e-01,  4.97092187e-01,  7.07297683e-01, -1.43910035e-01,\n",
       "         5.01117706e-01,  6.54724181e-01, -2.73194106e-04,  4.82416958e-01,\n",
       "         7.18460202e-01, -1.64330572e-01,  4.88196641e-01,  6.56132460e-01,\n",
       "        -1.39486659e-02,  4.79833871e-01,  7.11676300e-01, -1.53343618e-01,\n",
       "         4.86334652e-01,  6.59520328e-01, -3.29712853e-02,  4.85004753e-01,\n",
       "         7.07018614e-01, -1.35810897e-01,  4.90955234e-01,  6.61420643e-01,\n",
       "        -1.38242571e-02,  5.81042409e-01,  5.61860085e-01, -9.62673351e-02,\n",
       "         5.78800738e-01,  5.40495872e-01,  9.61858183e-02,  6.68658137e-01,\n",
       "         6.13415837e-01, -9.37070139e-03,  6.48743033e-01,  6.12141192e-01,\n",
       "         2.25696102e-01,  7.49072194e-01,  6.36780560e-01,  1.01760931e-01,\n",
       "         7.02895999e-01,  6.30278289e-01,  3.99345249e-01,  7.62783527e-01,\n",
       "         6.24962091e-01,  1.09312892e-01,  7.17441916e-01,  6.27157032e-01,\n",
       "         4.15695280e-01,  7.52520025e-01,  6.97509170e-01,  4.45525981e-02,\n",
       "         6.97136760e-01,  6.74384892e-01,  3.90138388e-01]),\n",
       " array([ 4.22069550e-01,  6.49824381e-01, -2.26313416e-02,  4.14106518e-01,\n",
       "         6.40546143e-01, -4.49371375e-02,  4.14211333e-01,  6.39285445e-01,\n",
       "        -4.51306589e-02,  4.14370656e-01,  6.38234437e-01, -4.50942144e-02,\n",
       "         4.13773060e-01,  6.39519274e-01, -1.39383925e-02,  4.13683534e-01,\n",
       "         6.37824297e-01, -1.41543252e-02,  4.13517177e-01,  6.36192441e-01,\n",
       "        -1.42171718e-02,  4.19015884e-01,  6.22846782e-01, -1.03606164e-01,\n",
       "         4.18195814e-01,  6.19524479e-01,  3.53889540e-02,  4.30080563e-01,\n",
       "         6.46652997e-01, -3.83452661e-02,  4.30379093e-01,  6.46179080e-01,\n",
       "         4.19662741e-04,  4.62354094e-01,  6.04285777e-01, -1.66096434e-01,\n",
       "         4.64239180e-01,  5.74576974e-01,  1.37545779e-01,  5.28689623e-01,\n",
       "         6.44793630e-01, -1.37568653e-01,  5.22045076e-01,  5.96309900e-01,\n",
       "         9.53417942e-02,  4.97157216e-01,  7.16154218e-01, -5.96528780e-03,\n",
       "         4.99465406e-01,  6.63835883e-01, -1.00468799e-01,  4.82647091e-01,\n",
       "         7.24661291e-01, -9.61378124e-03,  4.88589734e-01,  6.68703735e-01,\n",
       "        -1.26164794e-01,  4.79434788e-01,  7.15514421e-01, -7.70018809e-03,\n",
       "         4.85664308e-01,  6.69559240e-01, -1.36995584e-01,  4.84985113e-01,\n",
       "         7.13027894e-01,  9.46116808e-04,  4.89625335e-01,  6.70292497e-01,\n",
       "        -1.13189027e-01,  5.88170707e-01,  5.95987856e-01, -9.64405313e-02,\n",
       "         5.85981607e-01,  5.82536995e-01,  9.64344367e-02,  6.73938811e-01,\n",
       "         6.37464225e-01, -6.65380759e-03,  6.66061819e-01,  6.24762475e-01,\n",
       "         1.51560813e-01,  7.54262269e-01,  6.35701895e-01,  7.58194923e-02,\n",
       "         7.43093014e-01,  6.25580847e-01,  2.57065535e-01,  7.72149086e-01,\n",
       "         6.28118038e-01,  7.94451758e-02,  7.60519505e-01,  6.18762493e-01,\n",
       "         2.65199125e-01,  7.51257420e-01,  7.00366080e-01,  2.04802956e-02,\n",
       "         7.43775904e-01,  6.83852613e-01,  2.34113872e-01]),\n",
       " array([ 0.41732895,  0.60093093, -0.03558575,  0.41057128,  0.5920074 ,\n",
       "        -0.05939059,  0.41071731,  0.59020597, -0.05954042,  0.41087472,\n",
       "         0.58880943, -0.05948858,  0.41019863,  0.59131336, -0.03314029,\n",
       "         0.41010794,  0.58891672, -0.03333659,  0.4100107 ,  0.58681911,\n",
       "        -0.03339697,  0.41611856,  0.57176846, -0.12628278,  0.41530377,\n",
       "         0.56977457, -0.00730769,  0.42505068,  0.59600586, -0.05355247,\n",
       "         0.42535517,  0.5946914 , -0.02050595,  0.46321592,  0.57579714,\n",
       "        -0.17287318,  0.46287543,  0.52992094,  0.08943158,  0.52288532,\n",
       "         0.63977098, -0.15587471,  0.5164175 ,  0.58667141,  0.18139406,\n",
       "         0.49480852,  0.70997322, -0.04028055,  0.4994885 ,  0.65349805,\n",
       "         0.19971089,  0.48229212,  0.71766675, -0.04295153,  0.48805436,\n",
       "         0.65692294,  0.2077433 ,  0.47939873,  0.71182233, -0.0358704 ,\n",
       "         0.48544794,  0.65998769,  0.1956794 ,  0.48366284,  0.7089318 ,\n",
       "        -0.03247906,  0.490071  ,  0.66101396,  0.19314852,  0.58334333,\n",
       "         0.60170549, -0.0810774 ,  0.58321685,  0.57557482,  0.08103359,\n",
       "         0.66720915,  0.63837993, -0.01023801,  0.65430045,  0.62545091,\n",
       "         0.19695465,  0.75040919,  0.63847941,  0.06958468,  0.72817522,\n",
       "         0.65075588,  0.31820038,  0.75916511,  0.62186122,  0.07526147,\n",
       "         0.74524289,  0.64758044,  0.3294974 ,  0.74818623,  0.69154739,\n",
       "         0.03464303,  0.727211  ,  0.6988706 ,  0.31956798]),\n",
       " array([ 0.42443109,  0.52903879, -0.08030471,  0.41790241,  0.51775289,\n",
       "        -0.10457999,  0.41809642,  0.5156216 , -0.10475966,  0.41824403,\n",
       "         0.51395416, -0.1047109 ,  0.41758776,  0.51766825, -0.07208505,\n",
       "         0.4176448 ,  0.51563692, -0.07230491,  0.4176304 ,  0.51377082,\n",
       "        -0.07237595,  0.42352104,  0.49722293, -0.16520286,  0.4227958 ,\n",
       "         0.49677375, -0.0182105 ,  0.43347293,  0.52413595, -0.09568761,\n",
       "         0.43327707,  0.52405661, -0.05461061,  0.4700596 ,  0.50479227,\n",
       "        -0.23057327,  0.47504351,  0.47697777,  0.10787379,  0.50410789,\n",
       "         0.61016172, -0.24717878,  0.50102931,  0.56709611,  0.13973194,\n",
       "         0.49983463,  0.70675671, -0.18585862,  0.50378329,  0.64834499,\n",
       "         0.02583798,  0.48470229,  0.71911412, -0.21205655,  0.49133241,\n",
       "         0.65243286,  0.01385984,  0.48200083,  0.71190518, -0.20047024,\n",
       "         0.48948991,  0.65813458, -0.01059154,  0.48805818,  0.70836252,\n",
       "        -0.1783435 ,  0.49488246,  0.659675  ,  0.01046375,  0.58966815,\n",
       "         0.54740769, -0.09938943,  0.5864923 ,  0.52693379,  0.09933123,\n",
       "         0.67073989,  0.60501146,  0.03147223,  0.65696478,  0.58609414,\n",
       "         0.23209724,  0.75004566,  0.63510072,  0.15795957,  0.73690724,\n",
       "         0.62317252,  0.3848587 ,  0.76505315,  0.62672734,  0.16608612,\n",
       "         0.750907  ,  0.61729586,  0.39825866,  0.75173914,  0.69449657,\n",
       "         0.10091133,  0.72818965,  0.66608191,  0.36120504]),\n",
       " array([ 0.4172819 ,  0.62856072, -0.05264694,  0.40999645,  0.62058932,\n",
       "        -0.07566025,  0.41013557,  0.61895907, -0.07584684,  0.41026726,\n",
       "         0.61749297, -0.07580768,  0.40954053,  0.61916053, -0.04399351,\n",
       "         0.40948507,  0.6166144 , -0.04420382,  0.40945494,  0.61405808,\n",
       "        -0.04427614,  0.41513294,  0.59730536, -0.13640407,  0.41485873,\n",
       "         0.59499425,  0.00610865,  0.4250654 ,  0.62216294, -0.06904728,\n",
       "         0.42550278,  0.62046903, -0.02926691,  0.45998242,  0.5801475 ,\n",
       "        -0.19042039,  0.45994836,  0.55001533,  0.1096404 ,  0.52297109,\n",
       "         0.63771641, -0.1755732 ,  0.51602536,  0.58871686,  0.09596322,\n",
       "         0.49669653,  0.71377528, -0.06333983,  0.49955252,  0.66161567,\n",
       "        -0.05696814,  0.48139197,  0.72134852, -0.06974805,  0.48663568,\n",
       "         0.66107857, -0.07619491,  0.47997651,  0.71145874, -0.06539682,\n",
       "         0.4844718 ,  0.66318768, -0.08801793,  0.48515004,  0.70851916,\n",
       "        -0.05620526,  0.48956838,  0.6657846 , -0.06890552,  0.58245361,\n",
       "         0.60312128, -0.09228866,  0.5803892 ,  0.58398998,  0.09227843,\n",
       "         0.67036319,  0.6360172 ,  0.02124731,  0.66118211,  0.6230678 ,\n",
       "         0.18584183,  0.75243849,  0.63538402,  0.1226066 ,  0.74176264,\n",
       "         0.6269027 ,  0.2776334 ,  0.76510954,  0.62618095,  0.12874413,\n",
       "         0.75486863,  0.6200183 ,  0.28446048,  0.75666636,  0.69754112,\n",
       "         0.07683276,  0.74769062,  0.68052536,  0.25346521]),\n",
       " array([ 4.24613833e-01,  6.73208773e-01, -2.46095322e-02,  4.15402204e-01,\n",
       "         6.64286733e-01, -4.29976769e-02,  4.15332943e-01,  6.61972106e-01,\n",
       "        -4.32036370e-02,  4.15318429e-01,  6.59705222e-01, -4.31471430e-02,\n",
       "         4.15336728e-01,  6.65216982e-01, -1.37845101e-02,  4.15301621e-01,\n",
       "         6.63416684e-01, -1.40210269e-02,  4.15262580e-01,  6.61566854e-01,\n",
       "        -1.41110327e-02,  4.19840038e-01,  6.42571330e-01, -8.58402774e-02,\n",
       "         4.19122159e-01,  6.43254578e-01,  4.46267836e-02,  4.32874203e-01,\n",
       "         6.66552722e-01, -3.47268470e-02,  4.32739735e-01,  6.66808486e-01,\n",
       "         1.36605080e-03,  4.59509045e-01,  6.24977231e-01, -1.40825063e-01,\n",
       "         4.62088346e-01,  5.93721271e-01,  1.39049113e-01,  5.27041316e-01,\n",
       "         6.47216797e-01, -1.20187782e-01,  5.19597948e-01,  5.99929154e-01,\n",
       "         7.20072389e-02,  4.93496627e-01,  7.08198011e-01,  1.36665907e-03,\n",
       "         4.98096138e-01,  6.63247168e-01, -1.40488565e-01,  4.80342090e-01,\n",
       "         7.16927350e-01, -1.15152252e-04,  4.89281327e-01,  6.72943234e-01,\n",
       "        -1.70751944e-01,  4.76489842e-01,  7.09656775e-01,  5.36672072e-04,\n",
       "         4.86272752e-01,  6.73134387e-01, -1.79245606e-01,  4.81318712e-01,\n",
       "         7.06839919e-01,  7.78147858e-03,  4.88820612e-01,  6.74375713e-01,\n",
       "        -1.52901396e-01,  5.88184357e-01,  6.34207189e-01, -9.04655755e-02,\n",
       "         5.87217212e-01,  6.10616028e-01,  9.04683620e-02,  6.76684737e-01,\n",
       "         6.52684510e-01, -5.75795630e-03,  6.69393659e-01,  6.33248627e-01,\n",
       "         1.23726010e-01,  7.56830752e-01,  6.42663896e-01,  5.78162335e-02,\n",
       "         7.46511936e-01,  6.31721675e-01,  2.04917625e-01,  7.71602035e-01,\n",
       "         6.26261711e-01,  5.92654720e-02,  7.63419449e-01,  6.19550169e-01,\n",
       "         2.10140437e-01,  7.56111979e-01,  6.95657194e-01, -3.14732292e-03,\n",
       "         7.47489810e-01,  6.83168113e-01,  1.73321515e-01]),\n",
       " array([ 0.41954321,  0.5766592 , -0.07605205,  0.41238397,  0.56628197,\n",
       "        -0.10066536,  0.41257566,  0.5647288 , -0.10086878,  0.41276625,\n",
       "         0.56350905, -0.10080794,  0.41172132,  0.56546038, -0.06970426,\n",
       "         0.41165411,  0.56361133, -0.06993052,  0.41165096,  0.56194842,\n",
       "        -0.06998124,  0.41696036,  0.54814023, -0.16317955,  0.41707724,\n",
       "         0.5459246 , -0.02214457,  0.42760289,  0.57217497, -0.09222705,\n",
       "         0.42793626,  0.57114792, -0.05281289,  0.46238139,  0.55342394,\n",
       "        -0.21433429,  0.46855152,  0.50951689,  0.09376689,  0.51899379,\n",
       "         0.63077909, -0.22200249,  0.51023388,  0.58098465,  0.1739969 ,\n",
       "         0.49894816,  0.70880437, -0.1444931 ,  0.50254142,  0.65230602,\n",
       "         0.14624684,  0.4839125 ,  0.71741742, -0.1612775 ,  0.48811918,\n",
       "         0.6562171 ,  0.14729892,  0.48115849,  0.70647657, -0.15338047,\n",
       "         0.48573112,  0.66054398,  0.12900431,  0.48626634,  0.70356548,\n",
       "        -0.13789594,  0.49129695,  0.66098738,  0.1358584 ,  0.58353037,\n",
       "         0.57104909, -0.09084884,  0.5793646 ,  0.54059994,  0.09074296,\n",
       "         0.67067713,  0.61957419, -0.00078767,  0.53268307,  0.57087898,\n",
       "         0.24591802,  0.74843949,  0.63782197,  0.08266682,  0.5655579 ,\n",
       "         0.63397437,  0.37163043,  0.76282805,  0.62764859,  0.08849715,\n",
       "         0.56218886,  0.64706403,  0.38371256,  0.75520825,  0.69661534,\n",
       "         0.01915324,  0.54339832,  0.66752505,  0.37142679]),\n",
       " array([ 0.4169904 ,  0.66065603, -0.03705435,  0.40955657,  0.65101683,\n",
       "        -0.05623588,  0.40975016,  0.64900964, -0.05641826,  0.40996099,\n",
       "         0.64739698, -0.05637447,  0.40925741,  0.65040261, -0.02816323,\n",
       "         0.40935844,  0.64807397, -0.02837379,  0.40943676,  0.64583194,\n",
       "        -0.02844557,  0.41485852,  0.63058728, -0.10322613,  0.41429389,\n",
       "         0.62823594,  0.02276197,  0.42594299,  0.65622079, -0.0487582 ,\n",
       "         0.42645192,  0.65545523, -0.01382184,  0.45902103,  0.61349773,\n",
       "        -0.15262614,  0.46005607,  0.58390725,  0.11723807,  0.52805829,\n",
       "         0.64396387, -0.1348979 ,  0.51897436,  0.61227632,  0.06887707,\n",
       "         0.49785203,  0.71101582, -0.02950936,  0.49458036,  0.675933  ,\n",
       "        -0.11764617,  0.48500353,  0.72021043, -0.03350262,  0.48426875,\n",
       "         0.68475962, -0.14348058,  0.48184204,  0.71309328, -0.03283581,\n",
       "         0.48258874,  0.68334848, -0.15295248,  0.48600844,  0.70875579,\n",
       "        -0.02378629,  0.48628601,  0.68193585, -0.12960392,  0.58168709,\n",
       "         0.63484097, -0.08522549,  0.58022654,  0.60741335,  0.08523664,\n",
       "         0.67228907,  0.65085918, -0.0030766 ,  0.6645568 ,  0.63669616,\n",
       "         0.13180389,  0.75300211,  0.64184356,  0.06910188,  0.7406832 ,\n",
       "         0.63064539,  0.19631593,  0.76697421,  0.62802392,  0.07181094,\n",
       "         0.75787026,  0.61989695,  0.19993491,  0.75853151,  0.69191611,\n",
       "         0.01446845,  0.74866176,  0.67808235,  0.16199833])]"
      ]
     },
     "execution_count": 346,
     "metadata": {},
     "output_type": "execute_result"
    }
   ],
   "source": [
    "[d.reshape(-1) for d in npy_test_files]"
   ]
  },
  {
   "cell_type": "code",
   "execution_count": 171,
   "metadata": {},
   "outputs": [
    {
     "data": {
      "text/plain": [
       "(32, 99)"
      ]
     },
     "execution_count": 171,
     "metadata": {},
     "output_type": "execute_result"
    }
   ],
   "source": [
    "X_unlabeled.shape"
   ]
  },
  {
   "cell_type": "code",
   "execution_count": 348,
   "metadata": {},
   "outputs": [
    {
     "name": "stdout",
     "output_type": "stream",
     "text": [
      "데이터의 예측 결과: [0 1 1 0 1 1 1 1 1 1 0 1 0 1 1 1 1 0 1 0 1 1 0 1 0 0 1]\n"
     ]
    }
   ],
   "source": [
    "# 라벨링되지 않은 데이터 분류\n",
    "y_pred = knn_classifier.predict(X_unlabeled)\n",
    "# y_pred = knn_classifier.predict([d.reshape(-1) for d in X_labeled])\n",
    "\n",
    "# 분류 결과 출력\n",
    "print(\"데이터의 예측 결과:\", y_pred)\n",
    "\n",
    "# 분류 결과를 평가\n",
    "# y_true =np.array((Z37 + Z54 + Z56 + Z115 + Z59)) # np.array([0])\n",
    "# accuracy = accuracy_score(y_true, y_pred)\n",
    "# print(\"Accuracy:\", accuracy)"
   ]
  },
  {
   "cell_type": "code",
   "execution_count": 349,
   "metadata": {},
   "outputs": [
    {
     "name": "stdout",
     "output_type": "stream",
     "text": [
      "데이터의 예측 결과: [0 0 0 0 1 0 0 0 1 1 0 0 0 1 1 1 0 1 1 1 0 0 0 0 0 0 0 0 0 1 0 0 0 0 0 0 0\n",
      " 0 0 0 1 0 0 0 0 0 0 0 0 1 0 0 0 0 1 1 1 0 0 0 0 0 0 0 0 0 0 1 1 1 0 0 0 1\n",
      " 0 0 0 0 0 0 1 0 0 1 0 0 0 0 1 0 0 0 0 1 0 1 0 0 1 1 0 0 1 1 0 0 0 1 1 1 1\n",
      " 0 0 0 1 0 0 0 1 0 0 0 1 1 0 1 0 1 1 1 1 0 1 1 1 0 0 0 1 0 1 1 0 0 0 1 1 1\n",
      " 0 0 0 1 1 1 0 1 0 1 0 0 0 0 0 0 0 0 0 0 1 0 0 0 1 0 0 1 0 0 0 0 0 0 0 1 0\n",
      " 0 0 0 0 0 0 0 0 0 0 0 0 1 1 0 0 1 0 0 0 0 1 0 0 0]\n",
      "Accuracy: 0.7619047619047619\n"
     ]
    }
   ],
   "source": [
    "y_pred = knn_classifier.predict([d.reshape(-1) for d in X_labeled])\n",
    "\n",
    "# 분류 결과 출력\n",
    "print(\"데이터의 예측 결과:\", y_pred)\n",
    "\n",
    "# 분류 결과를 평가\n",
    "y_true = y_labeled # np.array([0])\n",
    "accuracy = accuracy_score(y_true, y_pred)\n",
    "print(\"Accuracy:\", accuracy)"
   ]
  },
  {
   "cell_type": "code",
   "execution_count": 350,
   "metadata": {},
   "outputs": [
    {
     "data": {
      "text/plain": [
       "array([0, 1, 1, 0, 1, 1, 1, 1, 1, 1, 1, 0, 0, 1, 1, 1, 1, 0, 1, 1, 1, 1,\n",
       "       1, 1, 0, 0, 1])"
      ]
     },
     "execution_count": 350,
     "metadata": {},
     "output_type": "execute_result"
    }
   ],
   "source": [
    "predictions = dtree.predict(X_unlabeled)\n",
    "# print(classification_report(y_test,predictions))\n",
    "predictions"
   ]
  },
  {
   "cell_type": "code",
   "execution_count": 351,
   "metadata": {},
   "outputs": [
    {
     "name": "stdout",
     "output_type": "stream",
     "text": [
      "데이터의 예측 결과: [0 0 0 0 1 1 0 0 1 1 0 0 0 1 1 0 0 0 1 1 0 0 0 0 0 0 0 0 0 0 0 0 0 0 0 0 0\n",
      " 0 1 1 1 0 0 0 1 1 0 0 0 1 1 0 0 0 0 0 1 1 0 0 1 1 0 0 1 0 0 1 0 0 0 1 0 0\n",
      " 0 0 0 0 0 0 0 0 0 0 0 0 0 0 1 1 0 0 0 1 1 0 0 0 1 1 0 0 0 1 1 1 1 1 0 0 1\n",
      " 1 0 0 1 1 0 0 1 1 0 0 1 1 1 1 1 1 1 1 1 1 1 1 1 0 0 0 0 0 1 1 0 0 0 1 1 1\n",
      " 0 0 0 1 1 0 0 0 1 1 0 0 0 0 0 0 1 0 0 0 1 0 0 0 1 0 0 1 1 0 0 0 0 0 0 0 0\n",
      " 1 0 0 1 0 0 1 0 0 0 0 0 1 1 0 0 1 0 0 1 0 0 1 1 0]\n",
      "Accuracy: 1.0\n"
     ]
    }
   ],
   "source": [
    "y_pred = dtree.predict([d.reshape(-1) for d in X_labeled])\n",
    "\n",
    "# 분류 결과 출력\n",
    "print(\"데이터의 예측 결과:\", y_pred)\n",
    "\n",
    "# 분류 결과를 평가\n",
    "y_true = y_labeled\n",
    "accuracy = accuracy_score(y_true, y_pred)\n",
    "print(\"Accuracy:\", accuracy)"
   ]
  },
  {
   "cell_type": "code",
   "execution_count": 352,
   "metadata": {},
   "outputs": [],
   "source": [
    "# predictions = clf.predict(X_unlabeled)\n",
    "# predictions"
   ]
  },
  {
   "cell_type": "code",
   "execution_count": 353,
   "metadata": {},
   "outputs": [],
   "source": [
    "# y_pred = clf.predict([d.reshape(-1) for d in X_labeled])\n",
    "\n",
    "# # 분류 결과 출력\n",
    "# print(\"데이터의 예측 결과:\", y_pred)\n",
    "\n",
    "# # 분류 결과를 평가\n",
    "# y_true =np.array((Z37 + Z54 + Z56 + Z115 + Z59)) # np.array([0])\n",
    "# accuracy = accuracy_score(y_true, y_pred)\n",
    "# print(\"Accuracy:\", accuracy)"
   ]
  },
  {
   "cell_type": "code",
   "execution_count": 354,
   "metadata": {},
   "outputs": [
    {
     "data": {
      "text/plain": [
       "array([0, 1, 0, 0, 1, 0, 1, 1, 0, 0, 1, 0, 0, 0, 1, 0, 1, 0, 0, 1, 0, 1,\n",
       "       1, 0, 0, 0, 1])"
      ]
     },
     "execution_count": 354,
     "metadata": {},
     "output_type": "execute_result"
    }
   ],
   "source": [
    "predictions = rfc.predict(X_unlabeled)\n",
    "predictions"
   ]
  },
  {
   "cell_type": "code",
   "execution_count": 355,
   "metadata": {},
   "outputs": [
    {
     "name": "stdout",
     "output_type": "stream",
     "text": [
      "데이터의 예측 결과: [0 0 0 0 1 1 0 0 1 1 0 0 0 1 1 0 0 0 1 1 0 0 0 0 0 0 0 0 0 0 0 0 0 0 0 0 0\n",
      " 0 1 1 1 0 0 0 1 1 0 0 0 1 1 0 0 0 0 0 1 1 0 0 1 1 0 0 1 0 0 1 0 0 0 1 0 0\n",
      " 0 0 0 0 0 0 0 0 0 0 0 0 0 0 1 1 0 0 0 1 1 0 0 0 1 1 0 0 0 1 1 1 1 1 0 0 1\n",
      " 1 0 0 1 1 0 0 1 1 0 0 1 1 1 1 1 1 1 1 1 1 1 1 1 0 0 0 0 0 1 1 0 0 0 1 1 1\n",
      " 0 0 0 1 1 0 0 0 1 1 0 0 0 0 0 0 1 0 0 0 1 0 0 0 1 0 0 1 1 0 0 0 0 0 0 0 0\n",
      " 1 0 0 1 0 0 1 0 0 0 0 0 1 1 0 0 1 0 0 1 0 0 1 1 0]\n",
      "Accuracy: 1.0\n"
     ]
    }
   ],
   "source": [
    "y_pred = rfc.predict([d.reshape(-1) for d in X_labeled])\n",
    "\n",
    "# 분류 결과 출력\n",
    "print(\"데이터의 예측 결과:\", y_pred)\n",
    "\n",
    "# 분류 결과를 평가\n",
    "y_true = y_labeled\n",
    "accuracy = accuracy_score(y_true, y_pred)\n",
    "print(\"Accuracy:\", accuracy)"
   ]
  },
  {
   "cell_type": "code",
   "execution_count": 356,
   "metadata": {},
   "outputs": [
    {
     "data": {
      "text/plain": [
       "array([0, 1, 0, 0, 1, 0, 1, 1, 0, 0, 1, 0, 0, 0, 1, 0, 1, 0, 0, 1, 0, 0,\n",
       "       1, 0, 0, 0, 0])"
      ]
     },
     "execution_count": 356,
     "metadata": {},
     "output_type": "execute_result"
    }
   ],
   "source": [
    "predictions = gbc.predict(X_unlabeled)\n",
    "predictions"
   ]
  },
  {
   "cell_type": "code",
   "execution_count": 357,
   "metadata": {},
   "outputs": [
    {
     "name": "stdout",
     "output_type": "stream",
     "text": [
      "데이터의 예측 결과: [0 0 0 0 1 1 0 0 1 1 0 0 0 1 1 0 0 0 1 1 0 0 0 0 0 0 0 0 0 0 0 0 0 0 0 0 0\n",
      " 0 1 1 1 0 0 0 1 1 0 0 0 1 1 0 0 0 0 0 1 1 0 0 1 1 0 0 1 0 0 1 0 0 0 1 0 0\n",
      " 0 0 0 0 0 0 0 0 0 0 0 0 0 0 1 1 0 0 0 1 1 0 0 0 1 1 0 0 0 1 1 1 1 1 0 0 1\n",
      " 1 0 0 1 1 0 0 1 1 0 0 1 1 1 1 1 1 1 1 1 1 1 1 1 0 0 0 0 0 1 1 0 0 0 1 1 1\n",
      " 0 0 0 1 1 0 0 0 1 1 0 0 0 0 0 0 1 0 0 0 1 0 0 0 1 0 0 1 1 0 0 0 0 0 0 0 0\n",
      " 1 0 0 1 0 0 1 0 0 0 0 0 1 1 0 0 1 0 0 1 0 0 1 1 0]\n",
      "Accuracy: 1.0\n"
     ]
    }
   ],
   "source": [
    "y_pred = gbc.predict([d.reshape(-1) for d in X_labeled])\n",
    "\n",
    "# 분류 결과 출력\n",
    "print(\"데이터의 예측 결과:\", y_pred)\n",
    "\n",
    "# 분류 결과를 평가\n",
    "y_true = y_labeled\n",
    "accuracy = accuracy_score(y_true, y_pred)\n",
    "print(\"Accuracy:\", accuracy)"
   ]
  },
  {
   "cell_type": "code",
   "execution_count": 358,
   "metadata": {},
   "outputs": [
    {
     "data": {
      "text/plain": [
       "array([0, 1, 0, 0, 1, 0, 1, 1, 0, 0, 1, 0, 0, 0, 1, 0, 1, 0, 0, 1, 0, 0,\n",
       "       1, 0, 0, 0, 0])"
      ]
     },
     "execution_count": 358,
     "metadata": {},
     "output_type": "execute_result"
    }
   ],
   "source": [
    "predictions = xbc.predict(X_unlabeled)\n",
    "predictions"
   ]
  },
  {
   "cell_type": "code",
   "execution_count": 359,
   "metadata": {},
   "outputs": [
    {
     "name": "stdout",
     "output_type": "stream",
     "text": [
      "데이터의 예측 결과: [0 0 0 0 1 1 0 0 1 1 0 0 0 1 1 0 0 0 1 1 0 0 0 0 0 0 0 0 0 0 0 0 0 0 0 0 0\n",
      " 0 1 1 1 0 0 0 1 1 0 0 0 1 1 0 0 0 0 0 1 1 0 0 1 1 0 0 1 0 0 1 0 0 0 1 0 0\n",
      " 0 0 0 0 0 0 0 0 0 0 0 0 0 0 1 1 0 0 0 1 1 0 0 0 1 1 0 0 0 1 1 1 1 1 0 0 1\n",
      " 1 0 0 1 1 0 0 1 1 0 0 1 1 1 1 1 1 1 1 1 1 1 1 1 0 0 0 0 0 1 1 0 0 0 1 1 1\n",
      " 0 0 0 1 1 0 0 0 1 1 0 0 0 0 0 0 1 0 0 0 1 0 0 0 1 0 0 1 1 0 0 0 0 0 0 0 0\n",
      " 1 0 0 1 0 0 1 0 0 0 0 0 1 1 0 0 1 0 0 1 0 0 1 1 0]\n",
      "Accuracy: 1.0\n"
     ]
    }
   ],
   "source": [
    "y_pred = xbc.predict([d.reshape(-1) for d in X_labeled])\n",
    "\n",
    "# 분류 결과 출력\n",
    "print(\"데이터의 예측 결과:\", y_pred)\n",
    "\n",
    "# 분류 결과를 평가\n",
    "y_true = y_labeled\n",
    "accuracy = accuracy_score(y_true, y_pred)\n",
    "print(\"Accuracy:\", accuracy)"
   ]
  },
  {
   "cell_type": "code",
   "execution_count": 360,
   "metadata": {},
   "outputs": [
    {
     "data": {
      "text/plain": [
       "(array([0, 1, 0, 0, 1, 0, 1, 1, 0, 0, 1, 0, 0, 0, 1, 0, 1, 0, 0, 1, 0, 0,\n",
       "        1, 0, 0, 0, 0]),\n",
       " 0.4444444444444444)"
      ]
     },
     "execution_count": 360,
     "metadata": {},
     "output_type": "execute_result"
    }
   ],
   "source": [
    "predictions = ensemble_model.predict(X_unlabeled)\n",
    "predictions, accuracy_score(Z98, predictions)"
   ]
  },
  {
   "cell_type": "code",
   "execution_count": 361,
   "metadata": {},
   "outputs": [
    {
     "name": "stdout",
     "output_type": "stream",
     "text": [
      "데이터의 예측 결과: [0 0 0 0 1 1 0 0 1 1 0 0 0 1 1 0 0 0 1 1 0 0 0 0 0 0 0 0 0 0 0 0 0 0 0 0 0\n",
      " 0 1 1 1 0 0 0 1 1 0 0 0 1 1 0 0 0 0 0 1 1 0 0 1 1 0 0 1 0 0 1 0 0 0 1 0 0\n",
      " 0 0 0 0 0 0 0 0 0 0 0 0 0 0 1 1 0 0 0 1 1 0 0 0 1 1 0 0 0 1 1 1 1 1 0 0 1\n",
      " 1 0 0 1 1 0 0 1 1 0 0 1 1 1 1 1 1 1 1 1 1 1 1 1 0 0 0 0 0 1 1 0 0 0 1 1 1\n",
      " 0 0 0 1 1 0 0 0 1 1 0 0 0 0 0 0 1 0 0 0 1 0 0 0 1 0 0 1 1 0 0 0 0 0 0 0 0\n",
      " 1 0 0 1 0 0 1 0 0 0 0 0 1 1 0 0 1 0 0 1 0 0 1 1 0]\n",
      "Accuracy: 1.0\n"
     ]
    }
   ],
   "source": [
    "y_pred = ensemble_model.predict([d.reshape(-1) for d in X_labeled])\n",
    "\n",
    "# 분류 결과 출력\n",
    "print(\"데이터의 예측 결과:\", y_pred)\n",
    "\n",
    "# 분류 결과를 평가\n",
    "y_true = y_labeled\n",
    "accuracy = accuracy_score(y_true, y_pred)\n",
    "print(\"Accuracy:\", accuracy)"
   ]
  },
  {
   "cell_type": "code",
   "execution_count": null,
   "metadata": {},
   "outputs": [],
   "source": []
  }
 ],
 "metadata": {
  "kernelspec": {
   "display_name": "Python 3",
   "language": "python",
   "name": "python3"
  },
  "language_info": {
   "codemirror_mode": {
    "name": "ipython",
    "version": 3
   },
   "file_extension": ".py",
   "mimetype": "text/x-python",
   "name": "python",
   "nbconvert_exporter": "python",
   "pygments_lexer": "ipython3",
   "version": "3.9.6"
  },
  "orig_nbformat": 4
 },
 "nbformat": 4,
 "nbformat_minor": 2
}

{
 "cells": [
  {
   "cell_type": "code",
   "execution_count": 48,
   "metadata": {},
   "outputs": [],
   "source": [
    "import os\n",
    "import numpy as np\n",
    "npy_directory = \"./npy\"\n",
    "npy_files = [np.load(os.path.join(npy_directory, f)) for f in os.listdir(\"./npy\") if f.endswith(\".npy\")]"
   ]
  },
  {
   "cell_type": "code",
   "execution_count": 49,
   "metadata": {},
   "outputs": [],
   "source": [
    "data = np.array(npy_files)"
   ]
  },
  {
   "cell_type": "code",
   "execution_count": 16,
   "metadata": {},
   "outputs": [
    {
     "data": {
      "text/plain": [
       "array([[ 0.32656366,  0.50515097, -0.02179609],\n",
       "       [ 0.31800151,  0.49349958, -0.04513201],\n",
       "       [ 0.31794453,  0.49142537, -0.0453023 ],\n",
       "       [ 0.31788245,  0.48977488, -0.04526249],\n",
       "       [ 0.31810534,  0.4933458 , -0.01293141],\n",
       "       [ 0.31811345,  0.49118689, -0.01314239],\n",
       "       [ 0.31810731,  0.48918191, -0.01317994],\n",
       "       [ 0.32264149,  0.47262037, -0.10461833],\n",
       "       [ 0.32333302,  0.47123694,  0.04181893],\n",
       "       [ 0.33540025,  0.50170976, -0.03696424],\n",
       "       [ 0.33606255,  0.50147825,  0.0038694 ],\n",
       "       [ 0.37153131,  0.4862968 , -0.18256582],\n",
       "       [ 0.38253275,  0.46728536,  0.16324808],\n",
       "       [ 0.38152194,  0.6016022 , -0.2272886 ],\n",
       "       [ 0.39785287,  0.57427353,  0.18846899],\n",
       "       [ 0.37953106,  0.71018147, -0.19898111],\n",
       "       [ 0.39415312,  0.65986627,  0.08090755],\n",
       "       [ 0.36255348,  0.71848279, -0.23137677],\n",
       "       [ 0.38021746,  0.66006738,  0.07226449],\n",
       "       [ 0.36129743,  0.71147978, -0.21643601],\n",
       "       [ 0.37859851,  0.66296899,  0.04580407],\n",
       "       [ 0.36761105,  0.70951802, -0.19142325],\n",
       "       [ 0.3833372 ,  0.665941  ,  0.06497754],\n",
       "       [ 0.500651  ,  0.53731722, -0.102817  ],\n",
       "       [ 0.50238103,  0.52411824,  0.10273241],\n",
       "       [ 0.58478665,  0.60079473, -0.04981055],\n",
       "       [ 0.58043385,  0.59284455,  0.17596383],\n",
       "       [ 0.67518795,  0.62795269,  0.02507988],\n",
       "       [ 0.66025317,  0.61929721,  0.30190226],\n",
       "       [ 0.69249117,  0.61670583,  0.02755371],\n",
       "       [ 0.67782938,  0.60970771,  0.31225529],\n",
       "       [ 0.67184049,  0.70478034, -0.04820619],\n",
       "       [ 0.66149855,  0.6817075 ,  0.26957747]])"
      ]
     },
     "execution_count": 16,
     "metadata": {},
     "output_type": "execute_result"
    }
   ],
   "source": [
    "npy_files[0]"
   ]
  },
  {
   "cell_type": "markdown",
   "metadata": {},
   "source": [
    "# KMeans"
   ]
  },
  {
   "cell_type": "code",
   "execution_count": 36,
   "metadata": {},
   "outputs": [
    {
     "name": "stdout",
     "output_type": "stream",
     "text": [
      "Labels:  [0 0 0 0 0 0 0 0 0 0 2 1 0 3 1 0 1 1 1 2 0 0 1 2 0 1 0 0 0 0 0 0]\n",
      "Cluster Centers:  [[ 0.32737559  0.5136905  -0.0260049   0.3205847   0.50233265 -0.04780021\n",
      "   0.32064728  0.50007117 -0.04794443  0.3207064   0.49812885 -0.04791649\n",
      "   0.32059538  0.50264105 -0.01783425  0.32068137  0.50067404 -0.01804173\n",
      "   0.32073376  0.49871201 -0.01809351  0.32549609  0.48066291 -0.10296209\n",
      "   0.32544377  0.48138002  0.03338342  0.33595761  0.51034744 -0.03990255\n",
      "   0.33644612  0.51042848 -0.00192258  0.36938445  0.50027397 -0.17007275\n",
      "   0.38118631  0.47790379  0.14456605  0.38150787  0.60866235 -0.19971623\n",
      "   0.39932774  0.5757777   0.17662822  0.37993422  0.70919668 -0.15841739\n",
      "   0.39679202  0.65772739  0.08940739  0.36418095  0.71732769 -0.18348151\n",
      "   0.38365672  0.65771864  0.08340151  0.36329885  0.70907135 -0.17108851\n",
      "   0.38188797  0.6609375   0.05925234  0.36933123  0.70756215 -0.15132448\n",
      "   0.38655791  0.66398054  0.07527666  0.49417493  0.56172497 -0.09631515\n",
      "   0.49712388  0.54345829  0.09624677  0.57957204  0.61406713 -0.05860394\n",
      "   0.57721539  0.60566701  0.134117    0.67284902  0.62251176  0.0021828\n",
      "   0.66271321  0.6135756   0.21980172  0.68968331  0.60927943  0.00386595\n",
      "   0.68147957  0.60257051  0.22662949  0.67444215  0.69547501 -0.06595441\n",
      "   0.66674865  0.67854387  0.18354706]\n",
      " [ 0.31090245  0.64282916 -0.00688723  0.30202123  0.63486347 -0.02742252\n",
      "   0.30164434  0.63277928 -0.02753336  0.30132077  0.63097827 -0.02746116\n",
      "   0.30211947  0.63450406 -0.00145467  0.30182724  0.63220875 -0.00165625\n",
      "   0.30145021  0.62976728 -0.00169376  0.30344831  0.61298566 -0.08473963\n",
      "   0.30334893  0.61042742  0.03423767  0.31761798  0.63563219 -0.02179445\n",
      "   0.31831528  0.63518738  0.01093337  0.34572644  0.59655276 -0.14442899\n",
      "   0.3550061   0.56529317  0.12284636  0.39070297  0.61970505 -0.24779419\n",
      "   0.40556722  0.57308294  0.24546669  0.38153947  0.71058352 -0.28164438\n",
      "   0.39411227  0.64022435  0.31913604  0.36596714  0.71935328 -0.30341121\n",
      "   0.38445967  0.64349683  0.33677102  0.36379236  0.7111702  -0.28911568\n",
      "   0.38222238  0.64770244  0.32011693  0.36937902  0.70825078 -0.27474231\n",
      "   0.38558739  0.6496699   0.31261865  0.47649566  0.60695006 -0.08749326\n",
      "   0.4752766   0.59134269  0.0874585   0.56208573  0.63948914 -0.07755127\n",
      "   0.55730951  0.63525666  0.07918735  0.65999604  0.61776843 -0.06832478\n",
      "   0.65090817  0.61213475  0.10020366  0.67677598  0.60002107 -0.07001551\n",
      "   0.66948545  0.59490642  0.10095628  0.67149021  0.6974495  -0.11813897\n",
      "   0.66396527  0.68129689  0.07888679]\n",
      " [ 0.31417583  0.57601893  0.00394511  0.30575893  0.56779844 -0.01996538\n",
      "   0.30552558  0.56604407 -0.02010511  0.30532398  0.56475989 -0.02004124\n",
      "   0.30576583  0.56736493  0.01131073  0.30554483  0.56530472  0.01108277\n",
      "   0.30525327  0.56324633  0.01104562  0.3078989   0.54943248 -0.0884402\n",
      "   0.30778843  0.54594755  0.05369718  0.32137791  0.56963219 -0.01480323\n",
      "   0.32181109  0.5688618   0.02473838  0.35100729  0.54421357 -0.16035609\n",
      "   0.36308971  0.51346117  0.16004792  0.38989332  0.62000811 -0.20718779\n",
      "   0.40496502  0.57764987  0.24910421  0.38062481  0.70950534 -0.17200368\n",
      "   0.39648367  0.65391139  0.23487314  0.36315758  0.71850801 -0.19334236\n",
      "   0.38109495  0.65596255  0.24011225  0.36109255  0.71101852 -0.18152258\n",
      "   0.37885475  0.66127443  0.21829044  0.3675447   0.70913412 -0.16472518\n",
      "   0.38423716  0.6629833   0.22349974  0.48052991  0.57268786 -0.09791816\n",
      "   0.48271527  0.55206488  0.09792271  0.56982034  0.62264218 -0.06092936\n",
      "   0.56669593  0.61193542  0.10126189  0.6642217   0.62183805 -0.0198796\n",
      "   0.65320981  0.61377863  0.15665197  0.68058813  0.605129   -0.01973344\n",
      "   0.67213682  0.59761628  0.1602487   0.67245042  0.69701529 -0.07902779\n",
      "   0.66509324  0.68060271  0.12492337]\n",
      " [ 0.30916065  0.61508471  0.0254638   0.30162564  0.60720778  0.00232245\n",
      "   0.30140099  0.60546631  0.0022225   0.30119371  0.6040405   0.00227478\n",
      "   0.30164874  0.60601312  0.02842775  0.30144927  0.60349882  0.02821533\n",
      "   0.30116922  0.6008296   0.02816539  0.303792    0.58708692 -0.06649856\n",
      "   0.30376336  0.58312339  0.05173559  0.31638426  0.6090346   0.00675462\n",
      "   0.31698811  0.60705686  0.03937998  0.34603855  0.58096725 -0.12721695\n",
      "   0.35640267  0.54286772  0.14033985  0.39352459  0.62523007 -0.13074709\n",
      "   0.40485638  0.57246536  0.27621716  0.38078651  0.71050715 -0.01753452\n",
      "   0.39193499  0.63326269  0.37397149  0.36633706  0.72129244 -0.01456029\n",
      "   0.38153446  0.63757497  0.39791462  0.3631317   0.71049857 -0.00738004\n",
      "   0.37841529  0.64517796  0.38501102  0.369636    0.70463777 -0.00943309\n",
      "   0.38214022  0.64693952  0.36929536  0.47337142  0.59594846 -0.08294159\n",
      "   0.47456145  0.57885265  0.08294143  0.55798113  0.63521081 -0.08830036\n",
      "   0.55507326  0.63394207  0.06810676  0.65974945  0.61793381 -0.076014\n",
      "   0.64902461  0.61568624  0.08832773  0.6727159   0.60099065 -0.07682806\n",
      "   0.66868854  0.59977144  0.08940148  0.662781    0.68851507 -0.11513784\n",
      "   0.65775263  0.67217588  0.07419702]]\n"
     ]
    },
    {
     "name": "stderr",
     "output_type": "stream",
     "text": [
      "/Users/hou27/Library/Python/3.9/lib/python/site-packages/sklearn/cluster/_kmeans.py:1412: FutureWarning: The default value of `n_init` will change from 10 to 'auto' in 1.4. Set the value of `n_init` explicitly to suppress the warning\n",
      "  super()._check_params_vs_input(X, default_n_init=10)\n"
     ]
    }
   ],
   "source": [
    "from sklearn.cluster import KMeans\n",
    "import numpy as np\n",
    "\n",
    "# KMeans 객체 생성 및 학습\n",
    "kmeans = KMeans(n_clusters=4) # 클러스터 수는 3으로\n",
    "kmeans.fit([d.reshape(-1) for d in data])\n",
    "\n",
    "# 결과 확인\n",
    "labels = kmeans.labels_ # 각 데이터 포인트가 속한 클러스터의 레이블\n",
    "centers = kmeans.cluster_centers_ # 각 클러스터의 중심점\n",
    "\n",
    "print(\"Labels: \", labels)\n",
    "print(\"Cluster Centers: \", centers)"
   ]
  },
  {
   "cell_type": "markdown",
   "metadata": {},
   "source": [
    "# DBSCAN"
   ]
  },
  {
   "cell_type": "code",
   "execution_count": 41,
   "metadata": {},
   "outputs": [
    {
     "name": "stdout",
     "output_type": "stream",
     "text": [
      "Labels:  [ 0  0  0  0  0  0  0  0  0  0 -1 -1  0 -1 -1  0 -1 -1 -1 -1  0  0 -1 -1\n",
      "  0 -1  0  0  0  0  0  0]\n"
     ]
    }
   ],
   "source": [
    "from sklearn.cluster import DBSCAN\n",
    "import numpy as np\n",
    "\n",
    "# DBSCAN 객체 생성 및 학습\n",
    "dbscan = DBSCAN(eps=0.25, min_samples=15)\n",
    "dbscan.fit([d.reshape(-1) for d in data]) # 각 데이터를 1차원 배열로 변형\n",
    "\n",
    "# 결과 확인\n",
    "labels = dbscan.labels_ # 각 데이터에 대한 클러스터 레이블\n",
    "\n",
    "print(\"Labels: \", labels)"
   ]
  },
  {
   "cell_type": "markdown",
   "metadata": {},
   "source": [
    "# PCA"
   ]
  },
  {
   "cell_type": "code",
   "execution_count": 42,
   "metadata": {},
   "outputs": [
    {
     "name": "stdout",
     "output_type": "stream",
     "text": [
      "PCA Data Shape:  (32, 2)\n"
     ]
    }
   ],
   "source": [
    "from sklearn.decomposition import PCA\n",
    "import numpy as np\n",
    "\n",
    "# 각 데이터를 1차원 배열로 변형\n",
    "reshaped_data = [d.reshape(-1) for d in data]\n",
    "\n",
    "# PCA 객체 생성 및 학습\n",
    "pca = PCA(n_components=2) # n_components는 출력 공간의 차원 수\n",
    "pca_data = pca.fit_transform(reshaped_data)\n",
    "\n",
    "print(\"PCA Data Shape: \", pca_data.shape)"
   ]
  },
  {
   "cell_type": "code",
   "execution_count": 54,
   "metadata": {},
   "outputs": [
    {
     "name": "stdout",
     "output_type": "stream",
     "text": [
      "Labels:  [ 0  0  0  0  0  0  0  0  0  0 -1 -1  0 -1 -1  0 -1 -1 -1 -1  0  0 -1 -1\n",
      "  0 -1  0  0  0  0  0  0]\n"
     ]
    }
   ],
   "source": [
    "from sklearn.cluster import DBSCAN\n",
    "import numpy as np\n",
    "\n",
    "# DBSCAN 객체 생성 및 학습\n",
    "dbscan = DBSCAN(eps=0.25, min_samples=15)\n",
    "dbscan.fit(pca_data) # 각 데이터를 1차원 배열로 변형\n",
    "\n",
    "# 결과 확인\n",
    "labels = dbscan.labels_ # 각 데이터에 대한 클러스터 레이블\n",
    "\n",
    "print(\"Labels: \", labels)"
   ]
  },
  {
   "cell_type": "code",
   "execution_count": 53,
   "metadata": {},
   "outputs": [
    {
     "name": "stdout",
     "output_type": "stream",
     "text": [
      "Labels:  [0 0 0 0 0 0 0 0 0 0 3 1 0 2 1 0 1 1 1 3 0 0 1 3 0 1 0 0 0 0 0 0]\n",
      "Cluster Centers:  [[-0.22554875 -0.00853828]\n",
      " [ 0.53777734 -0.07411288]\n",
      " [ 0.44375342  0.485952  ]\n",
      " [ 0.17610962  0.07071403]]\n"
     ]
    },
    {
     "name": "stderr",
     "output_type": "stream",
     "text": [
      "/Users/hou27/Library/Python/3.9/lib/python/site-packages/sklearn/cluster/_kmeans.py:1412: FutureWarning: The default value of `n_init` will change from 10 to 'auto' in 1.4. Set the value of `n_init` explicitly to suppress the warning\n",
      "  super()._check_params_vs_input(X, default_n_init=10)\n"
     ]
    }
   ],
   "source": [
    "from sklearn.cluster import KMeans\n",
    "import numpy as np\n",
    "\n",
    "# KMeans 객체 생성 및 학습\n",
    "kmeans = KMeans(n_clusters=4) # 클러스터 수는 3으로\n",
    "kmeans.fit(pca_data)\n",
    "\n",
    "# 결과 확인\n",
    "labels = kmeans.labels_ # 각 데이터 포인트가 속한 클러스터의 레이블\n",
    "centers = kmeans.cluster_centers_ # 각 클러스터의 중심점\n",
    "\n",
    "print(\"Labels: \", labels)\n",
    "print(\"Cluster Centers: \", centers)"
   ]
  },
  {
   "cell_type": "markdown",
   "metadata": {},
   "source": [
    "# AudoEncoder"
   ]
  },
  {
   "cell_type": "code",
   "execution_count": 56,
   "metadata": {},
   "outputs": [
    {
     "name": "stdout",
     "output_type": "stream",
     "text": [
      "Compressed Data Shape:  (32, 32)\n",
      "Labels:  [0 0 0 0 0 0 0 0 0 0 0 0 0 0 0 0 0 0 0 0 0 0 0 0 0 0 0 0 0 0 0 0]\n"
     ]
    }
   ],
   "source": [
    "import numpy as np\n",
    "from sklearn.cluster import DBSCAN\n",
    "import torch\n",
    "from torch import nn\n",
    "from torch.optim import Adam\n",
    "\n",
    "data = np.array(npy_files)\n",
    "# 각 데이터를 1차원 배열로 변형 및 Tensor 변환\n",
    "reshaped_data = np.array([d.reshape(-1) for d in data])\n",
    "reshaped_data = torch.from_numpy(reshaped_data).float()\n",
    "\n",
    "class Autoencoder(nn.Module):\n",
    "    def __init__(self):\n",
    "        super(Autoencoder, self).__init__()\n",
    "        self.encoder = nn.Sequential(\n",
    "            nn.Linear(99, 64),\n",
    "            nn.ReLU(),\n",
    "            nn.Linear(64, 32),\n",
    "            nn.ReLU()\n",
    "        )\n",
    "        self.decoder = nn.Sequential(\n",
    "            nn.Linear(32, 64),\n",
    "            nn.ReLU(),\n",
    "            nn.Linear(64, 99)\n",
    "        )\n",
    "\n",
    "    def forward(self, x):\n",
    "        x = self.encoder(x)\n",
    "        x = self.decoder(x)\n",
    "        return x\n",
    "\n",
    "autoencoder_model = Autoencoder()\n",
    "criterion = nn.MSELoss()\n",
    "optimizer = Adam(autoencoder_model.parameters(), lr=0.001)\n",
    "\n",
    "# Autoencoder 학습\n",
    "for epoch in range(50): # epochs=50 \n",
    "    optimizer.zero_grad()\n",
    "    output_data = autoencoder_model.forward(reshaped_data)\n",
    "    loss_value = criterion(output_data, reshaped_data)\n",
    "    loss_value.backward()\n",
    "    optimizer.step()\n",
    "\n",
    "compressed_data_encoder_only_part_of_autoencoder_model=autoencoder_model.encoder\n",
    "\n",
    "with torch.no_grad():\n",
    "     compressed_dataset=compressed_data_encoder_only_part_of_autoencoder_model.forward(reshaped_data)\n",
    "\n",
    "compressed_dataset_np=compressed_dataset.numpy() # converting tensor to numpy array to use with sklearn's DBSCAN\n",
    "\n",
    "print(\"Compressed Data Shape: \", compressed_dataset_np.shape)\n",
    "\n",
    "dbscan_model=DBSCAN(min_samples=5).fit(compressed_dataset_np) \n",
    "\n",
    "labels=dbscan_model.labels_\n",
    "\n",
    "print(\"Labels: \", labels)\n",
    "\n"
   ]
  },
  {
   "cell_type": "markdown",
   "metadata": {},
   "source": [
    "# kNN"
   ]
  },
  {
   "cell_type": "code",
   "execution_count": 65,
   "metadata": {},
   "outputs": [
    {
     "name": "stdout",
     "output_type": "stream",
     "text": [
      "라벨링되지 않은 데이터의 예측 결과: [0]\n",
      "Accuracy: 1.0\n"
     ]
    }
   ],
   "source": [
    "import numpy as np\n",
    "from sklearn.neighbors import KNeighborsClassifier\n",
    "from sklearn.metrics import accuracy_score\n",
    "from sklearn.model_selection import train_test_split\n",
    "\n",
    "# 라벨링된 데이터 생성\n",
    "X_labeled = data[:-1]\n",
    "y_labeled = np.array([0, 0, 0, 1, 2, 2, 0, 0, 2, 2, 1, 0, 0, 2, 2, 1, 1, 1, 2, 2, 0, 0, 0, 0, 0, 0, 0, 0, 0, 0, 0])\n",
    "\n",
    "# 라벨링되지 않은 데이터 생성\n",
    "X_unlabeled = data[-1].reshape(1, -1)\n",
    "\n",
    "# kNN 분류기 생성 및 학습\n",
    "k = 3  # k값 설정\n",
    "knn_classifier = KNeighborsClassifier(n_neighbors=k)\n",
    "knn_classifier.fit([d.reshape(-1) for d in X_labeled], y_labeled)\n",
    "\n",
    "# 라벨링되지 않은 데이터 분류\n",
    "y_pred = knn_classifier.predict(X_unlabeled)\n",
    "\n",
    "# 분류 결과 출력\n",
    "print(\"라벨링되지 않은 데이터의 예측 결과:\", y_pred)\n",
    "\n",
    "# 분류 결과를 평가\n",
    "y_true = np.array([0])\n",
    "accuracy = accuracy_score(y_true, y_pred)\n",
    "print(\"Accuracy:\", accuracy)"
   ]
  },
  {
   "cell_type": "code",
   "execution_count": 58,
   "metadata": {},
   "outputs": [
    {
     "data": {
      "text/plain": [
       "32"
      ]
     },
     "execution_count": 58,
     "metadata": {},
     "output_type": "execute_result"
    }
   ],
   "source": [
    "[0, 0, 0, 1, 2, 2, 0, 0, 2, 2, 1, 0, 0, 2, 2, 1, 1, 1, 2, 2, 0, 0, 0, 0, 0, 0, 0, 0, 0, 0, 0, 0].__len__()"
   ]
  },
  {
   "cell_type": "code",
   "execution_count": 59,
   "metadata": {},
   "outputs": [
    {
     "data": {
      "text/plain": [
       "array([[ 0.32656366,  0.50515097, -0.02179609],\n",
       "       [ 0.31800151,  0.49349958, -0.04513201],\n",
       "       [ 0.31794453,  0.49142537, -0.0453023 ],\n",
       "       [ 0.31788245,  0.48977488, -0.04526249],\n",
       "       [ 0.31810534,  0.4933458 , -0.01293141],\n",
       "       [ 0.31811345,  0.49118689, -0.01314239],\n",
       "       [ 0.31810731,  0.48918191, -0.01317994],\n",
       "       [ 0.32264149,  0.47262037, -0.10461833],\n",
       "       [ 0.32333302,  0.47123694,  0.04181893],\n",
       "       [ 0.33540025,  0.50170976, -0.03696424],\n",
       "       [ 0.33606255,  0.50147825,  0.0038694 ],\n",
       "       [ 0.37153131,  0.4862968 , -0.18256582],\n",
       "       [ 0.38253275,  0.46728536,  0.16324808],\n",
       "       [ 0.38152194,  0.6016022 , -0.2272886 ],\n",
       "       [ 0.39785287,  0.57427353,  0.18846899],\n",
       "       [ 0.37953106,  0.71018147, -0.19898111],\n",
       "       [ 0.39415312,  0.65986627,  0.08090755],\n",
       "       [ 0.36255348,  0.71848279, -0.23137677],\n",
       "       [ 0.38021746,  0.66006738,  0.07226449],\n",
       "       [ 0.36129743,  0.71147978, -0.21643601],\n",
       "       [ 0.37859851,  0.66296899,  0.04580407],\n",
       "       [ 0.36761105,  0.70951802, -0.19142325],\n",
       "       [ 0.3833372 ,  0.665941  ,  0.06497754],\n",
       "       [ 0.500651  ,  0.53731722, -0.102817  ],\n",
       "       [ 0.50238103,  0.52411824,  0.10273241],\n",
       "       [ 0.58478665,  0.60079473, -0.04981055],\n",
       "       [ 0.58043385,  0.59284455,  0.17596383],\n",
       "       [ 0.67518795,  0.62795269,  0.02507988],\n",
       "       [ 0.66025317,  0.61929721,  0.30190226],\n",
       "       [ 0.69249117,  0.61670583,  0.02755371],\n",
       "       [ 0.67782938,  0.60970771,  0.31225529],\n",
       "       [ 0.67184049,  0.70478034, -0.04820619],\n",
       "       [ 0.66149855,  0.6817075 ,  0.26957747]])"
      ]
     },
     "execution_count": 59,
     "metadata": {},
     "output_type": "execute_result"
    }
   ],
   "source": [
    "data[0]"
   ]
  },
  {
   "cell_type": "code",
   "execution_count": null,
   "metadata": {},
   "outputs": [],
   "source": []
  }
 ],
 "metadata": {
  "kernelspec": {
   "display_name": "Python 3",
   "language": "python",
   "name": "python3"
  },
  "language_info": {
   "codemirror_mode": {
    "name": "ipython",
    "version": 3
   },
   "file_extension": ".py",
   "mimetype": "text/x-python",
   "name": "python",
   "nbconvert_exporter": "python",
   "pygments_lexer": "ipython3",
   "version": "3.9.6"
  },
  "orig_nbformat": 4
 },
 "nbformat": 4,
 "nbformat_minor": 2
}
